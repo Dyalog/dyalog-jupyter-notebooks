{
 "cells": [
  {
   "cell_type": "markdown",
   "id": "built-learning",
   "metadata": {},
   "source": [
    "# Maths versus APL\n",
    "\n",
    "Let us explore, on a basic level, the differences and the similarities between traditional mathematical notation and APL."
   ]
  },
  {
   "cell_type": "markdown",
   "id": "satisfied-rebound",
   "metadata": {},
   "source": [
    "The basic operations are exactly the same, and if it weren't for the font, you wouldn't be able to tell the difference:"
   ]
  },
  {
   "cell_type": "code",
   "execution_count": 29,
   "id": "advance-texture",
   "metadata": {},
   "outputs": [
    {
     "data": {
      "text/html": [
       "<span style=\"white-space:pre; font-family: monospace\">7\n",
       "\n",
       "</span>"
      ]
     },
     "execution_count": 29,
     "metadata": {},
     "output_type": "execute_result"
    }
   ],
   "source": [
    "3 + 4"
   ]
  },
  {
   "cell_type": "markdown",
   "id": "interracial-circular",
   "metadata": {},
   "source": [
    "Well, I _kind of_ lied: there is one obvious difference."
   ]
  },
  {
   "cell_type": "markdown",
   "id": "accurate-barbados",
   "metadata": {},
   "source": [
    "But that's a functional difference."
   ]
  },
  {
   "cell_type": "markdown",
   "id": "sexual-background",
   "metadata": {},
   "source": [
    "While traditional maths notation (that I will occasionally abbreviate to TMN because I am lazy) is static:\n",
    "\n",
    "$$3 + 4 = 7 ~ ,$$"
   ]
  },
  {
   "cell_type": "markdown",
   "id": "persistent-option",
   "metadata": {},
   "source": [
    "APL code can be evaluated, like we saw above."
   ]
  },
  {
   "cell_type": "markdown",
   "id": "endless-escape",
   "metadata": {},
   "source": [
    "I just have to type the expression and then ask for the result with a press of the <kbd>Enter</kbd> key:"
   ]
  },
  {
   "cell_type": "code",
   "execution_count": 2,
   "id": "insured-blood",
   "metadata": {},
   "outputs": [
    {
     "data": {
      "text/html": [
       "<span style=\"white-space:pre; font-family: monospace\">42\n",
       "\n",
       "</span>"
      ]
     },
     "execution_count": 2,
     "metadata": {},
     "output_type": "execute_result"
    }
   ],
   "source": [
    "20 + 22"
   ]
  },
  {
   "cell_type": "markdown",
   "id": "racial-arrival",
   "metadata": {},
   "source": [
    "This is the first thing to note about APL – APL is an _executable_ mathematical notation."
   ]
  },
  {
   "cell_type": "markdown",
   "id": "bizarre-pierce",
   "metadata": {},
   "source": [
    "As such, let us _execute_ some more mathematical expressions:"
   ]
  },
  {
   "cell_type": "code",
   "execution_count": 3,
   "id": "specified-paper",
   "metadata": {},
   "outputs": [
    {
     "data": {
      "text/html": [
       "<span style=\"white-space:pre; font-family: monospace\">7\n",
       "\n",
       "</span>"
      ]
     },
     "execution_count": 3,
     "metadata": {},
     "output_type": "execute_result"
    }
   ],
   "source": [
    "10 - 3"
   ]
  },
  {
   "cell_type": "code",
   "execution_count": 4,
   "id": "floating-marker",
   "metadata": {},
   "outputs": [
    {
     "data": {
      "text/html": [
       "<span style=\"white-space:pre; font-family: monospace\">102\n",
       "\n",
       "</span>"
      ]
     },
     "execution_count": 4,
     "metadata": {},
     "output_type": "execute_result"
    }
   ],
   "source": [
    "34 × 3"
   ]
  },
  {
   "cell_type": "code",
   "execution_count": 5,
   "id": "contemporary-handbook",
   "metadata": {},
   "outputs": [
    {
     "data": {
      "text/html": [
       "<span style=\"white-space:pre; font-family: monospace\">3\n",
       "\n",
       "</span>"
      ]
     },
     "execution_count": 5,
     "metadata": {},
     "output_type": "execute_result"
    }
   ],
   "source": [
    "102 ÷ 34"
   ]
  },
  {
   "cell_type": "markdown",
   "id": "improved-hammer",
   "metadata": {},
   "source": [
    "These are just examples of things where APL and mathematics are the same."
   ]
  },
  {
   "cell_type": "markdown",
   "id": "alike-condition",
   "metadata": {},
   "source": [
    "But there is more! If we agree that we can represent Boolean values with 0s and 1s (where 0 means \"false\" and 1 means \"true\"), then the Boolean operators are the same in APL and TMN:\n",
    "\n",
    "$$1 ∧ 0 = 0$$\n",
    "\n",
    "$$1 ∨ 0 = 1$$"
   ]
  },
  {
   "cell_type": "code",
   "execution_count": 13,
   "id": "swiss-dakota",
   "metadata": {},
   "outputs": [
    {
     "data": {
      "text/html": [
       "<span style=\"white-space:pre; font-family: monospace\">0\n",
       "\n",
       "</span>"
      ]
     },
     "execution_count": 13,
     "metadata": {},
     "output_type": "execute_result"
    }
   ],
   "source": [
    "1 ∧ 0"
   ]
  },
  {
   "cell_type": "code",
   "execution_count": 14,
   "id": "actual-helping",
   "metadata": {},
   "outputs": [
    {
     "data": {
      "text/html": [
       "<span style=\"white-space:pre; font-family: monospace\">1\n",
       "\n",
       "</span>"
      ]
     },
     "execution_count": 14,
     "metadata": {},
     "output_type": "execute_result"
    }
   ],
   "source": [
    "1 ∨ 0"
   ]
  },
  {
   "cell_type": "markdown",
   "id": "widespread-multiple",
   "metadata": {},
   "source": [
    "APL even borrows some of TMN's notation for some set operations.\n",
    "\n",
    "For example, we use\n",
    "\n",
    "$$x \\in S$$\n",
    "\n",
    "to say that $x$ is in $S$."
   ]
  },
  {
   "cell_type": "markdown",
   "id": "dietary-separate",
   "metadata": {},
   "source": [
    "In APL, we use `∊` to check for membership:"
   ]
  },
  {
   "cell_type": "code",
   "execution_count": 16,
   "id": "dietary-grocery",
   "metadata": {},
   "outputs": [
    {
     "data": {
      "text/html": [
       "<span style=\"white-space:pre; font-family: monospace\">1\n",
       "\n",
       "</span>"
      ]
     },
     "execution_count": 16,
     "metadata": {},
     "output_type": "execute_result"
    }
   ],
   "source": [
    "3 ∊ 1 2 3 4"
   ]
  },
  {
   "cell_type": "code",
   "execution_count": 17,
   "id": "secure-spectrum",
   "metadata": {},
   "outputs": [
    {
     "data": {
      "text/html": [
       "<span style=\"white-space:pre; font-family: monospace\">0\n",
       "\n",
       "</span>"
      ]
     },
     "execution_count": 17,
     "metadata": {},
     "output_type": "execute_result"
    }
   ],
   "source": [
    "3 ∊ 5 6 7 8"
   ]
  },
  {
   "cell_type": "markdown",
   "id": "terminal-athletics",
   "metadata": {},
   "source": [
    "(Above, we are listing some integers by writing them next to each other.)"
   ]
  },
  {
   "cell_type": "markdown",
   "id": "female-performer",
   "metadata": {},
   "source": [
    "We can also do set union and intersection with the conventional mathematical symbols:\n",
    "\n",
    "$$\\{1, 2, 3\\} \\cup \\{3, 4, 5\\} = \\{1, 2, 3, 4, 5\\}$$\n",
    "\n",
    "$$\\{1, 2, 3\\} \\cap \\{3, 4, 5\\} = \\{3\\}$$"
   ]
  },
  {
   "cell_type": "code",
   "execution_count": 18,
   "id": "executive-voltage",
   "metadata": {},
   "outputs": [
    {
     "data": {
      "text/html": [
       "<span style=\"white-space:pre; font-family: monospace\">1 2 3 4 5\n",
       "\n",
       "</span>"
      ]
     },
     "execution_count": 18,
     "metadata": {},
     "output_type": "execute_result"
    }
   ],
   "source": [
    "1 2 3 ∪ 3 4 5"
   ]
  },
  {
   "cell_type": "code",
   "execution_count": 21,
   "id": "contemporary-hartford",
   "metadata": {},
   "outputs": [
    {
     "data": {
      "text/html": [
       "<span style=\"white-space:pre; font-family: monospace\">3\n",
       "\n",
       "</span>"
      ]
     },
     "execution_count": 21,
     "metadata": {},
     "output_type": "execute_result"
    }
   ],
   "source": [
    "1 2 3 ∩ 3 4 5"
   ]
  },
  {
   "cell_type": "markdown",
   "id": "jewish-mexico",
   "metadata": {},
   "source": [
    "But there are also many places where TMN and APL do _not_ look the same."
   ]
  },
  {
   "cell_type": "markdown",
   "id": "played-render",
   "metadata": {},
   "source": [
    "In fact, we just saw an example of that!"
   ]
  },
  {
   "cell_type": "markdown",
   "id": "falling-satin",
   "metadata": {},
   "source": [
    "While mathematics has to use commas (\",\") to separate members of a set, because juxtaposition generally means multiplication, APL can get rid of that visual noise because multiplication is ever only represented by `×`."
   ]
  },
  {
   "cell_type": "markdown",
   "id": "funky-advertising",
   "metadata": {},
   "source": [
    "If you are not convinced, then suppose (in TMN) that we have\n",
    "\n",
    "$$x = 3, y = 4, z = 5 ~ .$$\n",
    "\n",
    "What is $\\{x ~ y ~ z\\}$?"
   ]
  },
  {
   "cell_type": "markdown",
   "id": "alleged-affairs",
   "metadata": {},
   "source": [
    "Is it the set with the elements $3$, $4$, and $5$, or is it the set with the element $60$?"
   ]
  },
  {
   "cell_type": "markdown",
   "id": "photographic-violin",
   "metadata": {},
   "source": [
    "In APL, it is _clearly_ the set with three elements:"
   ]
  },
  {
   "cell_type": "code",
   "execution_count": 23,
   "id": "embedded-leonard",
   "metadata": {},
   "outputs": [],
   "source": [
    "x ← 3\n",
    "y ← 4\n",
    "z ← 5"
   ]
  },
  {
   "cell_type": "code",
   "execution_count": 24,
   "id": "danish-utilization",
   "metadata": {},
   "outputs": [
    {
     "data": {
      "text/html": [
       "<span style=\"white-space:pre; font-family: monospace\">3 4 5\n",
       "\n",
       "</span>"
      ]
     },
     "execution_count": 24,
     "metadata": {},
     "output_type": "execute_result"
    }
   ],
   "source": [
    "x y z"
   ]
  },
  {
   "cell_type": "markdown",
   "id": "through-layout",
   "metadata": {},
   "source": [
    "By the way, these left-pointing arrows can be read as \"x gets 3\", \"y gets 4\", \"z gets 5\"."
   ]
  },
  {
   "cell_type": "markdown",
   "id": "stretch-seller",
   "metadata": {},
   "source": [
    "This is another difference from TMN, where $=$ is used for both assignment of variables and equality comparison, sometimes making it dubious whether we are assigning a value to a variable or asserting the two things are the same."
   ]
  },
  {
   "cell_type": "markdown",
   "id": "awful-technical",
   "metadata": {},
   "source": [
    "In APL, we reserve `=` for equality testing:"
   ]
  },
  {
   "cell_type": "code",
   "execution_count": 25,
   "id": "reasonable-tomato",
   "metadata": {},
   "outputs": [
    {
     "data": {
      "text/html": [
       "<span style=\"white-space:pre; font-family: monospace\">0\n",
       "\n",
       "</span>"
      ]
     },
     "execution_count": 25,
     "metadata": {},
     "output_type": "execute_result"
    }
   ],
   "source": [
    "x = 2"
   ]
  },
  {
   "cell_type": "code",
   "execution_count": 26,
   "id": "consecutive-building",
   "metadata": {},
   "outputs": [
    {
     "data": {
      "text/html": [
       "<span style=\"white-space:pre; font-family: monospace\">1\n",
       "\n",
       "</span>"
      ]
     },
     "execution_count": 26,
     "metadata": {},
     "output_type": "execute_result"
    }
   ],
   "source": [
    "x = 3"
   ]
  },
  {
   "cell_type": "markdown",
   "id": "bizarre-silly",
   "metadata": {},
   "source": [
    "So why is APL so similar and so different from TMN?"
   ]
  },
  {
   "cell_type": "markdown",
   "id": "useful-oakland",
   "metadata": {},
   "source": [
    "Because APL was _not_ designed as a programming language, but rather as an alternative to TMN..."
   ]
  },
  {
   "cell_type": "markdown",
   "id": "stainless-middle",
   "metadata": {},
   "source": [
    "That's because [Ken Iverson](https://en.wikipedia.org/wiki/Kenneth_E._Iverson), the father of APL, believed that having a suitable notation allowed you to convey your thoughts more easily, more clearly, and also believed that a suitable notation meant you could spend more time solving problems, and less time struggling with how to write your solutions down."
   ]
  },
  {
   "cell_type": "markdown",
   "id": "amended-chocolate",
   "metadata": {},
   "source": [
    "(Ken Iverson was much more of a genius than what I am able to convey in such a simplistic sentence, so don't let my literary limitations have you think little of APL's _raison d'être_.)"
   ]
  },
  {
   "cell_type": "markdown",
   "id": "secondary-knock",
   "metadata": {},
   "source": [
    "But why would such an alternative be needed? Let us explore how messy TMN can actually be."
   ]
  },
  {
   "cell_type": "markdown",
   "id": "brilliant-arthur",
   "metadata": {},
   "source": [
    "Oh, and by the way, I – the author – am a huge fan of mathematics.\n",
    "I studied mathematics _all_ my life.\n",
    "But after getting a taste of APL, I can no longer look at the traditional mathematical notation like I used to..."
   ]
  },
  {
   "cell_type": "markdown",
   "id": "northern-backup",
   "metadata": {},
   "source": [
    "In mathematics, exponentiation is denoted with a superscript:\n",
    "\n",
    "$$3^2 = 9$$"
   ]
  },
  {
   "cell_type": "markdown",
   "id": "familiar-health",
   "metadata": {},
   "source": [
    "In other words, the _positioning_ of symbols can denote operations..."
   ]
  },
  {
   "cell_type": "markdown",
   "id": "lined-windows",
   "metadata": {},
   "source": [
    "Is that really a good idea? Clearly you have never seen my handwriting."
   ]
  },
  {
   "cell_type": "markdown",
   "id": "compressed-mechanics",
   "metadata": {},
   "source": [
    "APL opts for keeping everything inline, which means all operations get their operators.\n",
    "For exponentiation, that is `*`:"
   ]
  },
  {
   "cell_type": "code",
   "execution_count": 6,
   "id": "painted-tobacco",
   "metadata": {},
   "outputs": [
    {
     "data": {
      "text/html": [
       "<span style=\"white-space:pre; font-family: monospace\">9\n",
       "\n",
       "</span>"
      ]
     },
     "execution_count": 6,
     "metadata": {},
     "output_type": "execute_result"
    }
   ],
   "source": [
    "3*2"
   ]
  },
  {
   "cell_type": "markdown",
   "id": "continued-proceeding",
   "metadata": {},
   "source": [
    "While we are in the matter of infix operators, would you be so kind as to tell me what the following expression evaluates to?\n",
    "\n",
    "$$3^2 + 6 - 2 \\times 5 + 3 ÷ 6$$"
   ]
  },
  {
   "cell_type": "markdown",
   "id": "monthly-mercury",
   "metadata": {},
   "source": [
    "First work out the exponentiation, multiplication and division are next in the priority line, and finally all the additions and subtractions, from left to right. PEDMAS, was it?"
   ]
  },
  {
   "cell_type": "markdown",
   "id": "psychological-retention",
   "metadata": {},
   "source": [
    "APL takes care of this with a simple rule: everything evaluates from right to left with the exact same priority:"
   ]
  },
  {
   "cell_type": "code",
   "execution_count": 7,
   "id": "respective-repeat",
   "metadata": {},
   "outputs": [
    {
     "data": {
      "text/html": [
       "<span style=\"white-space:pre; font-family: monospace\">0.037037\n",
       "\n",
       "</span>"
      ]
     },
     "execution_count": 7,
     "metadata": {},
     "output_type": "execute_result"
    }
   ],
   "source": [
    "3*2+6-2×5+3÷6"
   ]
  },
  {
   "cell_type": "markdown",
   "id": "informal-month",
   "metadata": {},
   "source": [
    "That is why the result above is so wildly different from whatever result you came up with for the mathematical expression."
   ]
  },
  {
   "cell_type": "markdown",
   "id": "printable-arnold",
   "metadata": {},
   "source": [
    "Maybe this is easier to grasp by contrasting the TMN expression\n",
    "\n",
    "$$5 - 5 - 5 = -5$$\n",
    "\n",
    "with the APL one:"
   ]
  },
  {
   "cell_type": "code",
   "execution_count": 30,
   "id": "eight-minutes",
   "metadata": {},
   "outputs": [
    {
     "data": {
      "text/html": [
       "<span style=\"white-space:pre; font-family: monospace\">5\n",
       "\n",
       "</span>"
      ]
     },
     "execution_count": 30,
     "metadata": {},
     "output_type": "execute_result"
    }
   ],
   "source": [
    "5-5-5"
   ]
  },
  {
   "cell_type": "markdown",
   "id": "popular-refund",
   "metadata": {},
   "source": [
    "Of course, if you really want to, you can use parenthesis to force execution in any order you prefer:"
   ]
  },
  {
   "cell_type": "code",
   "execution_count": 9,
   "id": "novel-rates",
   "metadata": {},
   "outputs": [
    {
     "data": {
      "text/html": [
       "<span style=\"white-space:pre; font-family: monospace\">¯5\n",
       "\n",
       "</span>"
      ]
     },
     "execution_count": 9,
     "metadata": {},
     "output_type": "execute_result"
    }
   ],
   "source": [
    "(5-5)-5"
   ]
  },
  {
   "cell_type": "markdown",
   "id": "acquired-austria",
   "metadata": {},
   "source": [
    "But having one single rule to sort out _all_ precedence issues that we might encounter is much better than having to memorise rules and, better still, it removes the burden of guesswork!"
   ]
  },
  {
   "cell_type": "markdown",
   "id": "other-platform",
   "metadata": {},
   "source": [
    "Now, you might be wondering \"why the heck does APL evaluate everything from right to left instead of everything from left to right?\", and that is a fair question..."
   ]
  },
  {
   "cell_type": "markdown",
   "id": "stone-blocking",
   "metadata": {},
   "source": [
    "But if you are already at that point then you probably accepted that it makes sense to simplify all the precedence rules!"
   ]
  },
  {
   "cell_type": "markdown",
   "id": "charming-tactics",
   "metadata": {},
   "source": [
    "One point to APL. And one point to you, for embracing this so gracefully."
   ]
  },
  {
   "cell_type": "markdown",
   "id": "miniature-affiliation",
   "metadata": {},
   "source": [
    "Moving on, I have a question for you.\n",
    "In TMN, what does\n",
    "\n",
    "$$f^2(x)$$\n",
    "\n",
    "mean?"
   ]
  },
  {
   "cell_type": "markdown",
   "id": "prime-bundle",
   "metadata": {},
   "source": [
    "I was taught that's equal to\n",
    "\n",
    "$$f(f(x)) ~ ,$$\n",
    "\n",
    "that is,\n",
    "\n",
    "$$f^n(x)$$\n",
    "\n",
    "is the function $f$ applied to $x$, $n$ times."
   ]
  },
  {
   "cell_type": "markdown",
   "id": "medical-chosen",
   "metadata": {},
   "source": [
    "How would that look like in APL?"
   ]
  },
  {
   "cell_type": "markdown",
   "id": "radical-italy",
   "metadata": {},
   "source": [
    "First of all, function application is written out like this: `f x`."
   ]
  },
  {
   "cell_type": "markdown",
   "id": "amber-newton",
   "metadata": {},
   "source": [
    "No need for the parentheses."
   ]
  },
  {
   "cell_type": "markdown",
   "id": "deadly-talent",
   "metadata": {},
   "source": [
    "In its quest for simplifying and making things unambiguous, it was decided that functions apply to everything that shows up to its right.\n",
    "This is what is called \"long right scope\".\n",
    "A rule like this was introduced so that we can boil down parentheses to a bare minimum."
   ]
  },
  {
   "cell_type": "markdown",
   "id": "meaning-secretariat",
   "metadata": {},
   "source": [
    "Function application is `f x`, and, therefore, applying `f` twice would be just `f f x`."
   ]
  },
  {
   "cell_type": "markdown",
   "id": "robust-treasurer",
   "metadata": {},
   "source": [
    "But there is another, shorter, way."
   ]
  },
  {
   "cell_type": "markdown",
   "id": "editorial-liability",
   "metadata": {},
   "source": [
    "Much like `*` is used for the \"power\" operation on numbers, `⍣` is used for the \"power\" operation on functions!"
   ]
  },
  {
   "cell_type": "markdown",
   "id": "ongoing-revolution",
   "metadata": {},
   "source": [
    "Hence, `(f⍣2) x` is equivalent to `f f x`."
   ]
  },
  {
   "cell_type": "markdown",
   "id": "australian-services",
   "metadata": {},
   "source": [
    "The fact that `⍣` and `*` are so similar isn't a coincidence, but it is also relevant that they aren't exactly the same thing.\n",
    "\n",
    "Consider the following mathematical equality:\n",
    "\n",
    "$$\\sin^2(x) + \\cos^2(x) = 1$$"
   ]
  },
  {
   "cell_type": "markdown",
   "id": "offshore-composition",
   "metadata": {},
   "source": [
    "This is how I have seen that equality written all my life, but, strictly speaking, the ² on the trigonometric functions should mean\n",
    "\n",
    "$$\\sin(\\sin(x)) + \\cos(\\cos(x)) ~,$$\n",
    "\n",
    "so the superscripts there are confusing."
   ]
  },
  {
   "cell_type": "markdown",
   "id": "enabling-affect",
   "metadata": {},
   "source": [
    "Perhaps move them to the right of $x$, like so:\n",
    "\n",
    "$$\\sin(x)^2 + \\cos(x)^2 = 1 ~ .$$\n",
    "\n",
    "That is not too bad, but now we run into the risk of confusing people that often omit parentheses with trigonometric functions, and\n",
    "\n",
    "$$\\sin x^2 + \\cos x^2 = 1$$\n",
    "\n",
    "is definitely _not_ what we mean here."
   ]
  },
  {
   "cell_type": "markdown",
   "id": "still-virginia",
   "metadata": {},
   "source": [
    "Perhaps the _safest_ alternative is to be 100% explicit about what we mean:\n",
    "\n",
    "$$\\left(\\sin(x)\\right)^2 + \\left(\\cos(x)\\right)^2 = 1 ~.$$"
   ]
  },
  {
   "cell_type": "markdown",
   "id": "legitimate-promotion",
   "metadata": {},
   "source": [
    "Meanwhile, in APL this confusion will never arise because `*` is for exponentiation and `⍣` is for repeated function application."
   ]
  },
  {
   "cell_type": "markdown",
   "id": "organizational-transcript",
   "metadata": {},
   "source": [
    "Remember when I talked about function application in TMN, and said that's $f(x)$?"
   ]
  },
  {
   "cell_type": "markdown",
   "id": "architectural-explanation",
   "metadata": {},
   "source": [
    "Then, why is it that the [factorial function](https://en.wikipedia.org/wiki/Factorial) is usually represented by $n!$ ?\n",
    "I.e., by an exclamation mark that goes _after_ the argument?"
   ]
  },
  {
   "cell_type": "markdown",
   "id": "vocal-durham",
   "metadata": {},
   "source": [
    "APL also has the factorial function, but APL gives its best at being consistent, so if function application is `f x` then the factorial function need not be different:"
   ]
  },
  {
   "cell_type": "code",
   "execution_count": 27,
   "id": "widespread-ecuador",
   "metadata": {},
   "outputs": [
    {
     "data": {
      "text/html": [
       "<span style=\"white-space:pre; font-family: monospace\">6\n",
       "\n",
       "</span>"
      ]
     },
     "execution_count": 27,
     "metadata": {},
     "output_type": "execute_result"
    }
   ],
   "source": [
    "!3"
   ]
  },
  {
   "cell_type": "code",
   "execution_count": 28,
   "id": "purple-brooks",
   "metadata": {},
   "outputs": [
    {
     "data": {
      "text/html": [
       "<span style=\"white-space:pre; font-family: monospace\">24\n",
       "\n",
       "</span>"
      ]
     },
     "execution_count": 28,
     "metadata": {},
     "output_type": "execute_result"
    }
   ],
   "source": [
    "!4"
   ]
  },
  {
   "cell_type": "markdown",
   "id": "harmful-investor",
   "metadata": {},
   "source": [
    "Oh well, these are just some of the interesting things that are a bit broken traditional mathematical notation."
   ]
  },
  {
   "cell_type": "markdown",
   "id": "universal-marks",
   "metadata": {},
   "source": [
    "I mean, maths still works, but imagine where we could be if the notation we used was just _better_."
   ]
  },
  {
   "cell_type": "markdown",
   "id": "disturbed-genetics",
   "metadata": {},
   "source": [
    "(By no means am I saying that APL is perfect, but it does have some nice qualities.)"
   ]
  },
  {
   "cell_type": "markdown",
   "id": "correct-professional",
   "metadata": {},
   "source": [
    "Another thing that I would like to bring to your attention pertains to the fact that a good notation unlocks new knowledge."
   ]
  },
  {
   "cell_type": "markdown",
   "id": "sharing-fence",
   "metadata": {},
   "source": [
    "Without defining the variables, let us focus on the following TMN expressions:"
   ]
  },
  {
   "cell_type": "markdown",
   "id": "three-tenant",
   "metadata": {},
   "source": [
    "$$\\max_i v_i$$"
   ]
  },
  {
   "cell_type": "markdown",
   "id": "thrown-guide",
   "metadata": {},
   "source": [
    "$$\\sum_i v_i$$"
   ]
  },
  {
   "cell_type": "markdown",
   "id": "growing-drive",
   "metadata": {},
   "source": [
    "$$\\forall i: P(v_i)$$"
   ]
  },
  {
   "cell_type": "markdown",
   "id": "still-morris",
   "metadata": {},
   "source": [
    "$$\\prod_i v_i$$"
   ]
  },
  {
   "cell_type": "markdown",
   "id": "terminal-prerequisite",
   "metadata": {},
   "source": [
    "$$\\exists i: P(v_i)$$"
   ]
  },
  {
   "cell_type": "markdown",
   "id": "leading-bullet",
   "metadata": {},
   "source": [
    "$$\\min_i v_i$$"
   ]
  },
  {
   "cell_type": "markdown",
   "id": "flexible-trade",
   "metadata": {},
   "source": [
    "Would you be so kind as to group related expressions together, please?"
   ]
  },
  {
   "cell_type": "markdown",
   "id": "interim-claim",
   "metadata": {},
   "source": [
    "I will now present to you the equivalent APL expressions, in order:\n",
    "\n",
    "```APL\n",
    "⌈/v\n",
    "+/v\n",
    "∧/P v\n",
    "×/v\n",
    "∨/P v\n",
    "⌊/v\n",
    "```"
   ]
  },
  {
   "cell_type": "markdown",
   "id": "italian-stock",
   "metadata": {},
   "source": [
    "Can you see how that little slash over there, the `/`, shows that all six expressions are actually closely related?"
   ]
  },
  {
   "cell_type": "markdown",
   "id": "curious-curve",
   "metadata": {},
   "source": [
    "You probably didn't even know what the `⌈` and `⌊` did, but you can probably see the `f/` pattern in all the six APL expressions."
   ]
  },
  {
   "cell_type": "markdown",
   "id": "distinguished-latino",
   "metadata": {},
   "source": [
    "Chances are, you grouped $\\sum$ and $\\prod$ together, then $\\max$ and $\\min$, and $\\forall$ and $\\exists$.\n",
    "You probably didn't even stop to ponder whether there were other relationships between all these operations."
   ]
  },
  {
   "cell_type": "markdown",
   "id": "bacterial-marijuana",
   "metadata": {},
   "source": [
    "The fact that the notation represents all of these in visually similar ways helps you reflect on the similarity between all these operations: \"maximum\", \"sum\", \"for all\", \"product\", \"exists\", and \"minimum\"."
   ]
  },
  {
   "cell_type": "markdown",
   "id": "opposite-amsterdam",
   "metadata": {},
   "source": [
    "The truth is, all of these operations are reductions, as we call them in APL: operations that take a binary function and then use it to reduce a \"list\" of values into a single result."
   ]
  },
  {
   "cell_type": "markdown",
   "id": "expired-struggle",
   "metadata": {},
   "source": [
    "But the `f/` pattern also brings another relationship to the surface, which is between the binary function `f` itself and the reduction we built."
   ]
  },
  {
   "cell_type": "markdown",
   "id": "responsible-hampton",
   "metadata": {},
   "source": [
    "For $\\sum$, for example, this is generally an immediate relationship:\n",
    "\n",
    "$$\\sum_i v_i ~ \\leftrightarrow ~ v_1 + v_2 + \\cdots ~ ,$$\n",
    "\n",
    "even though $\\sum$ has _no_ visual similarity to $+$."
   ]
  },
  {
   "cell_type": "markdown",
   "id": "beautiful-exercise",
   "metadata": {},
   "source": [
    "But not as many people think about $\\exists$ in this way:\n",
    "\n",
    "$$\\exists_i: P(v_i) ~ \\leftrightarrow ~ P(v_1) \\vee P(v_2) \\vee \\cdots$$"
   ]
  },
  {
   "cell_type": "markdown",
   "id": "subsequent-return",
   "metadata": {},
   "source": [
    "Granted, most people would probably be able to connect the dots if asked to, but the fact that the dots are already connected represents a huge head start for your brain, because it has to deal with less layers of abstraction and reasoning."
   ]
  },
  {
   "cell_type": "markdown",
   "id": "steady-skirt",
   "metadata": {},
   "source": [
    "It is a superpower to be able to recognise patterns, and APL wants that to be as easy as possible."
   ]
  },
  {
   "cell_type": "markdown",
   "id": "false-story",
   "metadata": {},
   "source": [
    "## Practical example\n",
    "\n",
    "Let me just give you a practical example of using APL notation to determine prime numbers below a certain threshold `n`."
   ]
  },
  {
   "cell_type": "markdown",
   "id": "sharp-studio",
   "metadata": {},
   "source": [
    "Let us start by setting a small threshold:"
   ]
  },
  {
   "cell_type": "code",
   "execution_count": 31,
   "id": "innovative-bahamas",
   "metadata": {},
   "outputs": [],
   "source": [
    "n ← 20"
   ]
  },
  {
   "cell_type": "markdown",
   "id": "interested-jason",
   "metadata": {},
   "source": [
    "The candidates for the prime numbers are all positive integers from 1 up to `n`, so let us generate those:"
   ]
  },
  {
   "cell_type": "code",
   "execution_count": 53,
   "id": "taken-collective",
   "metadata": {},
   "outputs": [
    {
     "data": {
      "text/html": [
       "<span style=\"white-space:pre; font-family: monospace\">1 2 3 4 5 6 7 8 9 10 11 12 13 14 15 16 17 18 19 20\n",
       "\n",
       "</span>"
      ]
     },
     "execution_count": 53,
     "metadata": {},
     "output_type": "execute_result"
    }
   ],
   "source": [
    "⍳n"
   ]
  },
  {
   "cell_type": "markdown",
   "id": "dominant-nightmare",
   "metadata": {},
   "source": [
    "Now we want to figure out which of these have divisors other than 1 and themselves."
   ]
  },
  {
   "cell_type": "markdown",
   "id": "proud-ancient",
   "metadata": {},
   "source": [
    "Now we can find the remainders when those numbers are divided by a potential divisor:"
   ]
  },
  {
   "cell_type": "code",
   "execution_count": 54,
   "id": "satellite-health",
   "metadata": {},
   "outputs": [
    {
     "data": {
      "text/html": [
       "<span style=\"white-space:pre; font-family: monospace\">1 2 3 4 0 1 2 3 4 0 1 2 3 4 0 1 2 3 4 0\n",
       "\n",
       "</span>"
      ]
     },
     "execution_count": 54,
     "metadata": {},
     "output_type": "execute_result"
    }
   ],
   "source": [
    "5|⍳n"
   ]
  },
  {
   "cell_type": "markdown",
   "id": "further-meaning",
   "metadata": {},
   "source": [
    "Therefore, finding divisors amounts to checking when the remainder is `0`:"
   ]
  },
  {
   "cell_type": "code",
   "execution_count": 55,
   "id": "amber-rhythm",
   "metadata": {},
   "outputs": [
    {
     "data": {
      "text/html": [
       "<span style=\"white-space:pre; font-family: monospace\">0 0 0 0 1 0 0 0 0 1 0 0 0 0 1 0 0 0 0 1\n",
       "\n",
       "</span>"
      ]
     },
     "execution_count": 55,
     "metadata": {},
     "output_type": "execute_result"
    }
   ],
   "source": [
    "0=5|⍳n"
   ]
  },
  {
   "cell_type": "markdown",
   "id": "final-heaven",
   "metadata": {},
   "source": [
    "However, we want to do this for all possible prime numbers and all possible divisors, so we use the _outer product_ to combine all possible divisors with all possible prime numbers:"
   ]
  },
  {
   "cell_type": "code",
   "execution_count": 56,
   "id": "false-cardiff",
   "metadata": {
    "scrolled": true
   },
   "outputs": [
    {
     "data": {
      "text/html": [
       "<span style=\"white-space:pre; font-family: monospace\">0 0 0 0 0 0 0 0 0  0  0  0  0  0  0  0  0  0  0 0\n",
       "1 0 1 0 1 0 1 0 1  0  1  0  1  0  1  0  1  0  1 0\n",
       "1 2 0 1 2 0 1 2 0  1  2  0  1  2  0  1  2  0  1 2\n",
       "1 2 3 0 1 2 3 0 1  2  3  0  1  2  3  0  1  2  3 0\n",
       "1 2 3 4 0 1 2 3 4  0  1  2  3  4  0  1  2  3  4 0\n",
       "1 2 3 4 5 0 1 2 3  4  5  0  1  2  3  4  5  0  1 2\n",
       "1 2 3 4 5 6 0 1 2  3  4  5  6  0  1  2  3  4  5 6\n",
       "1 2 3 4 5 6 7 0 1  2  3  4  5  6  7  0  1  2  3 4\n",
       "1 2 3 4 5 6 7 8 0  1  2  3  4  5  6  7  8  0  1 2\n",
       "1 2 3 4 5 6 7 8 9  0  1  2  3  4  5  6  7  8  9 0\n",
       "1 2 3 4 5 6 7 8 9 10  0  1  2  3  4  5  6  7  8 9\n",
       "1 2 3 4 5 6 7 8 9 10 11  0  1  2  3  4  5  6  7 8\n",
       "1 2 3 4 5 6 7 8 9 10 11 12  0  1  2  3  4  5  6 7\n",
       "1 2 3 4 5 6 7 8 9 10 11 12 13  0  1  2  3  4  5 6\n",
       "1 2 3 4 5 6 7 8 9 10 11 12 13 14  0  1  2  3  4 5\n",
       "1 2 3 4 5 6 7 8 9 10 11 12 13 14 15  0  1  2  3 4\n",
       "1 2 3 4 5 6 7 8 9 10 11 12 13 14 15 16  0  1  2 3\n",
       "1 2 3 4 5 6 7 8 9 10 11 12 13 14 15 16 17  0  1 2\n",
       "1 2 3 4 5 6 7 8 9 10 11 12 13 14 15 16 17 18  0 1\n",
       "1 2 3 4 5 6 7 8 9 10 11 12 13 14 15 16 17 18 19 0\n",
       "\n",
       "</span>"
      ]
     },
     "execution_count": 56,
     "metadata": {},
     "output_type": "execute_result"
    }
   ],
   "source": [
    "(⍳n)∘.|⍳n"
   ]
  },
  {
   "cell_type": "markdown",
   "id": "sixth-workshop",
   "metadata": {},
   "source": [
    "Each column contains remainders for a specific potential prime number.\n",
    "For example, the last column contains the remainders of 20."
   ]
  },
  {
   "cell_type": "markdown",
   "id": "featured-uzbekistan",
   "metadata": {},
   "source": [
    "Now we look for remainders equal to 0:"
   ]
  },
  {
   "cell_type": "code",
   "execution_count": 58,
   "id": "vanilla-aspect",
   "metadata": {},
   "outputs": [
    {
     "data": {
      "text/html": [
       "<span style=\"white-space:pre; font-family: monospace\">1 1 1 1 1 1 1 1 1 1 1 1 1 1 1 1 1 1 1 1\n",
       "0 1 0 1 0 1 0 1 0 1 0 1 0 1 0 1 0 1 0 1\n",
       "0 0 1 0 0 1 0 0 1 0 0 1 0 0 1 0 0 1 0 0\n",
       "0 0 0 1 0 0 0 1 0 0 0 1 0 0 0 1 0 0 0 1\n",
       "0 0 0 0 1 0 0 0 0 1 0 0 0 0 1 0 0 0 0 1\n",
       "0 0 0 0 0 1 0 0 0 0 0 1 0 0 0 0 0 1 0 0\n",
       "0 0 0 0 0 0 1 0 0 0 0 0 0 1 0 0 0 0 0 0\n",
       "0 0 0 0 0 0 0 1 0 0 0 0 0 0 0 1 0 0 0 0\n",
       "0 0 0 0 0 0 0 0 1 0 0 0 0 0 0 0 0 1 0 0\n",
       "0 0 0 0 0 0 0 0 0 1 0 0 0 0 0 0 0 0 0 1\n",
       "0 0 0 0 0 0 0 0 0 0 1 0 0 0 0 0 0 0 0 0\n",
       "0 0 0 0 0 0 0 0 0 0 0 1 0 0 0 0 0 0 0 0\n",
       "0 0 0 0 0 0 0 0 0 0 0 0 1 0 0 0 0 0 0 0\n",
       "0 0 0 0 0 0 0 0 0 0 0 0 0 1 0 0 0 0 0 0\n",
       "0 0 0 0 0 0 0 0 0 0 0 0 0 0 1 0 0 0 0 0\n",
       "0 0 0 0 0 0 0 0 0 0 0 0 0 0 0 1 0 0 0 0\n",
       "0 0 0 0 0 0 0 0 0 0 0 0 0 0 0 0 1 0 0 0\n",
       "0 0 0 0 0 0 0 0 0 0 0 0 0 0 0 0 0 1 0 0\n",
       "0 0 0 0 0 0 0 0 0 0 0 0 0 0 0 0 0 0 1 0\n",
       "0 0 0 0 0 0 0 0 0 0 0 0 0 0 0 0 0 0 0 1\n",
       "\n",
       "</span>"
      ]
     },
     "execution_count": 58,
     "metadata": {},
     "output_type": "execute_result"
    }
   ],
   "source": [
    "0=(⍳n)∘.|⍳n"
   ]
  },
  {
   "cell_type": "markdown",
   "id": "phantom-accuracy",
   "metadata": {},
   "source": [
    "Like we said, prime numbers have exactly two divisors, so we should count the number of divisors for each of the numbers by adding those 1s up (with `+⌿`, which should resemble `+/` if you are paying attention) and then looking for counts that equal 2:"
   ]
  },
  {
   "cell_type": "code",
   "execution_count": 60,
   "id": "accredited-newcastle",
   "metadata": {},
   "outputs": [
    {
     "data": {
      "text/html": [
       "<span style=\"white-space:pre; font-family: monospace\">1 2 2 3 2 4 2 4 3 4 2 6 2 4 4 5 2 6 2 6\n",
       "\n",
       "</span>"
      ]
     },
     "execution_count": 60,
     "metadata": {},
     "output_type": "execute_result"
    }
   ],
   "source": [
    "+⌿0=(⍳n)∘.|⍳n"
   ]
  },
  {
   "cell_type": "code",
   "execution_count": 59,
   "id": "opposed-three",
   "metadata": {},
   "outputs": [
    {
     "data": {
      "text/html": [
       "<span style=\"white-space:pre; font-family: monospace\">0 1 1 0 1 0 1 0 0 0 1 0 1 0 0 0 1 0 1 0\n",
       "\n",
       "</span>"
      ]
     },
     "execution_count": 59,
     "metadata": {},
     "output_type": "execute_result"
    }
   ],
   "source": [
    "2=+⌿0=(⍳n)∘.|⍳n"
   ]
  },
  {
   "cell_type": "markdown",
   "id": "miniature-garden",
   "metadata": {},
   "source": [
    "Now that we have identified _where_ the primes are, we can use that information to filter them out with `/⍨`:"
   ]
  },
  {
   "cell_type": "code",
   "execution_count": 62,
   "id": "palestinian-brisbane",
   "metadata": {},
   "outputs": [
    {
     "data": {
      "text/html": [
       "<span style=\"white-space:pre; font-family: monospace\">2 3 5 7 11 13 17 19\n",
       "\n",
       "</span>"
      ]
     },
     "execution_count": 62,
     "metadata": {},
     "output_type": "execute_result"
    }
   ],
   "source": [
    "v ← ⍳n\n",
    "v/⍨2=+⌿0=v∘.|v"
   ]
  },
  {
   "cell_type": "markdown",
   "id": "wrong-duration",
   "metadata": {},
   "source": [
    "We also factored out the vector `v` with all the possible prime numbers so that we didn't have to recompute `⍳n` all the time."
   ]
  },
  {
   "cell_type": "markdown",
   "id": "structured-crisis",
   "metadata": {},
   "source": [
    "Learning APL is a very enlightening experience, so I recommend you check [this \"Get Started\"](https://www.dyalog.com/getting-started.htm) page or drop by [The APL Orchard](https://chat.stackexchange.com/rooms/52405/the-apl-orchard/), a chatroom where plenty of nice folks will be more than happy to answer your questions and help you start your adventure."
   ]
  }
 ],
 "metadata": {
  "kernelspec": {
   "display_name": "Dyalog APL",
   "language": "apl",
   "name": "dyalog-kernel"
  },
  "language_info": {
   "file_extension": ".apl",
   "mimetype": "text/apl",
   "name": "APL"
  },
  "toc": {
   "base_numbering": 1,
   "nav_menu": {},
   "number_sections": false,
   "sideBar": true,
   "skip_h1_title": true,
   "title_cell": "Table of Contents",
   "title_sidebar": "Contents",
   "toc_cell": false,
   "toc_position": {},
   "toc_section_display": true,
   "toc_window_display": false
  }
 },
 "nbformat": 4,
 "nbformat_minor": 5
}
