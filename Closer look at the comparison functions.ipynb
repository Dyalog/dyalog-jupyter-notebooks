{
 "cells": [
  {
   "cell_type": "markdown",
   "metadata": {},
   "source": [
    "**Table of Contents**\n",
    "\n",
    " - [Comparison functions](#Comparison-functions-<-≤-=-≥->-≠)\n",
    "  - [Equal To =](#Equal-To)\n",
    "  - [Not Equal To ≠](#Not-Equal-To)\n",
    "  - [Less Than <](#Less-Than)\n",
    "  - [Greater Than >](#Greater-Than)\n",
    "    - [Interchangeability of < and >](#Interchangeability-of-<-and->)\n",
    "  - [Less Than or Equal To ≤](#Less-Than-or-Equal-To)\n",
    "  - [Greater Than or Equal To ≥](#Greater-Than-or-Equal-To)\n",
    "    - [Interchangeability of ≤ and ≥](#Interchangeability-of-≤-and-≥)\n",
    " - [Logical opposites](#Logical-opposites)\n",
    "  - [= and ≠ are opposite from one another](#Equal-and-Not-Equal-To-are-opposite-from-one-another)\n",
    "  - [< and ≥ are opposite from one another](#Less-Than-and-Greater-Than-or-Equal-To-are-opposite-from-one-another)\n",
    "  - [> and ≤ are opposite from one another](#Greater-Than-and-Less-Than-or-Equal-To-are-opposite-from-one-another)"
   ]
  },
  {
   "cell_type": "markdown",
   "metadata": {},
   "source": [
    "# Comparison functions < ≤ = ≥ > ≠\n",
    "\n",
    "The comparison functions are _dyadic_ **scalar** functions. Being _dyadic_ means that they require a left and a right argument and being **scalar** means they penetrate into nested arrays all the way down to the scalars composing said arrays. There are six comparison functions:\n",
    "\n",
    " - = is the [_Equal To_](#Equal-To) function and ≠ is the [_Not Equal To_](#Not-Equal-To) function;\n",
    " - < is the [_Less Than_](#Less-Than) function and > is the [_More Than_](#More-Than) function;\n",
    " - ≤ is the [_Less Than or Equal To_](#Less-Than-or-Equal-To) function and ≥ is the [_Greater Than or Equal To_](#Greater-Than-or-Equal-To) function;\n",
    " \n",
    "We start by exploring a bit these six scalar functions. After that, we explore a very interesting thing about these 6 functions: from the logical point of view, they satisfy a lot of relationships among themselves."
   ]
  },
  {
   "cell_type": "markdown",
   "metadata": {},
   "source": [
    "## _Equal To_\n",
    "\n",
    "The _Equal To_ function checks if the left and right scalars are the same scalar. This function can be applied to more than just numbers!"
   ]
  },
  {
   "cell_type": "code",
   "execution_count": 1,
   "metadata": {},
   "outputs": [
    {
     "data": {
      "text/html": [
       "<span style=\"white-space:pre; font-family: monospace\">1\n",
       "</span>"
      ]
     },
     "execution_count": 1,
     "metadata": {},
     "output_type": "execute_result"
    },
    {
     "data": {
      "text/html": [
       "<span style=\"white-space:pre; font-family: monospace\">0\n",
       "</span>"
      ]
     },
     "execution_count": 1,
     "metadata": {},
     "output_type": "execute_result"
    },
    {
     "data": {
      "text/html": [
       "<span style=\"white-space:pre; font-family: monospace\">1\n",
       "</span>"
      ]
     },
     "execution_count": 1,
     "metadata": {},
     "output_type": "execute_result"
    },
    {
     "data": {
      "text/html": [
       "<span style=\"white-space:pre; font-family: monospace\">1\n",
       "</span>"
      ]
     },
     "execution_count": 1,
     "metadata": {},
     "output_type": "execute_result"
    },
    {
     "data": {
      "text/html": [
       "<span style=\"white-space:pre; font-family: monospace\">0\n",
       "</span>"
      ]
     },
     "execution_count": 1,
     "metadata": {},
     "output_type": "execute_result"
    },
    {
     "data": {
      "text/html": [
       "<span style=\"white-space:pre; font-family: monospace\">0\n",
       "</span>"
      ]
     },
     "execution_count": 1,
     "metadata": {},
     "output_type": "execute_result"
    },
    {
     "data": {
      "text/html": [
       "<span style=\"white-space:pre; font-family: monospace\">1\n",
       "</span>"
      ]
     },
     "execution_count": 1,
     "metadata": {},
     "output_type": "execute_result"
    },
    {
     "data": {
      "text/html": [
       "<span style=\"white-space:pre; font-family: monospace\">0\n",
       "</span>"
      ]
     },
     "execution_count": 1,
     "metadata": {},
     "output_type": "execute_result"
    },
    {
     "data": {
      "text/html": [
       "<span style=\"white-space:pre; font-family: monospace\">1 0 1 1 0 0 1 0\n",
       "</span>"
      ]
     },
     "execution_count": 1,
     "metadata": {},
     "output_type": "execute_result"
    }
   ],
   "source": [
    "1 = 1\n",
    "1 = 2\n",
    "1 = 1.0\n",
    "'u' = 'u'\n",
    "'a' = 'v'\n",
    "2 = '2'\n",
    "0J1 = 0J1\n",
    "1J3.4 = 1J3.3\n",
    "\n",
    "1 1 1 'u' 'a' 2 0J1 1J3.4 = 1 2 1.0 'u' 'v' '2' 0J1 1J3.3"
   ]
  },
  {
   "cell_type": "code",
   "execution_count": 2,
   "metadata": {},
   "outputs": [
    {
     "data": {
      "text/html": [
       "<span style=\"white-space:pre; font-family: monospace\">1 2 3 1 2 3 1 2 3 1 2 3\n",
       "</span>"
      ]
     },
     "execution_count": 2,
     "metadata": {},
     "output_type": "execute_result"
    }
   ],
   "source": [
    "⎕← oneTwoThree ← 12⍴1 2 3"
   ]
  },
  {
   "cell_type": "code",
   "execution_count": 3,
   "metadata": {},
   "outputs": [
    {
     "data": {
      "text/html": [
       "<span style=\"white-space:pre; font-family: monospace\">1 0 0 1 0 0 1 0 0 1 0 0\n",
       "</span>"
      ]
     },
     "execution_count": 3,
     "metadata": {},
     "output_type": "execute_result"
    },
    {
     "data": {
      "text/html": [
       "<span style=\"white-space:pre; font-family: monospace\">0 1 0 0 1 0 0 1 0 0 1 0\n",
       "</span>"
      ]
     },
     "execution_count": 3,
     "metadata": {},
     "output_type": "execute_result"
    },
    {
     "data": {
      "text/html": [
       "<span style=\"white-space:pre; font-family: monospace\">0 0 1 0 0 1 0 0 1 0 0 1\n",
       "</span>"
      ]
     },
     "execution_count": 3,
     "metadata": {},
     "output_type": "execute_result"
    },
    {
     "data": {
      "text/html": [
       "<span style=\"white-space:pre; font-family: monospace\">1 1 1 0 0 0 0 0 0 0 0 0\n",
       "</span>"
      ]
     },
     "execution_count": 3,
     "metadata": {},
     "output_type": "execute_result"
    }
   ],
   "source": [
    "1 = oneTwoThree\n",
    "2 = oneTwoThree\n",
    "3 = oneTwoThree\n",
    "oneTwoThree = ⍳12"
   ]
  },
  {
   "cell_type": "markdown",
   "metadata": {},
   "source": [
    "Notice how a **scalar** function behaves with nested arrays:"
   ]
  },
  {
   "cell_type": "code",
   "execution_count": 4,
   "metadata": {},
   "outputs": [
    {
     "data": {
      "text/html": [
       "<span style=\"white-space:pre; font-family: monospace\">┌─────┬─────┬─────┐\n",
       "│1 1 1│0 1 0│0 1 0│\n",
       "└─────┴─────┴─────┘\n",
       "</span>"
      ]
     },
     "execution_count": 4,
     "metadata": {},
     "output_type": "execute_result"
    }
   ],
   "source": [
    "(2 3 4)=(2 2 2)(2 3 4)(3 4 5)"
   ]
  },
  {
   "cell_type": "code",
   "execution_count": 5,
   "metadata": {},
   "outputs": [
    {
     "data": {
      "text/html": [
       "<span style=\"white-space:pre; font-family: monospace\">┌─────┬───┬─────────┐\n",
       "│1 0 0│0 1│1 1 1 0 1│\n",
       "│     │0 0│         │\n",
       "└─────┴───┴─────────┘\n",
       "</span>"
      ]
     },
     "execution_count": 5,
     "metadata": {},
     "output_type": "execute_result"
    }
   ],
   "source": [
    "(1 2 3)=(1 2 3)(2 2⍴⍳4)(3 3 3 5 3)"
   ]
  },
  {
   "cell_type": "markdown",
   "metadata": {},
   "source": [
    "## _Not Equal To_\n",
    "\n",
    "The _Not Equal To_ function ≠ checks if the left and right scalars are different from one another and, just like the _Equal To_ function, can be applied to scalars other than numbers."
   ]
  },
  {
   "cell_type": "code",
   "execution_count": 6,
   "metadata": {},
   "outputs": [
    {
     "data": {
      "text/html": [
       "<span style=\"white-space:pre; font-family: monospace\">0\n",
       "</span>"
      ]
     },
     "execution_count": 6,
     "metadata": {},
     "output_type": "execute_result"
    },
    {
     "data": {
      "text/html": [
       "<span style=\"white-space:pre; font-family: monospace\">1\n",
       "</span>"
      ]
     },
     "execution_count": 6,
     "metadata": {},
     "output_type": "execute_result"
    },
    {
     "data": {
      "text/html": [
       "<span style=\"white-space:pre; font-family: monospace\">0\n",
       "</span>"
      ]
     },
     "execution_count": 6,
     "metadata": {},
     "output_type": "execute_result"
    },
    {
     "data": {
      "text/html": [
       "<span style=\"white-space:pre; font-family: monospace\">0\n",
       "</span>"
      ]
     },
     "execution_count": 6,
     "metadata": {},
     "output_type": "execute_result"
    },
    {
     "data": {
      "text/html": [
       "<span style=\"white-space:pre; font-family: monospace\">1\n",
       "</span>"
      ]
     },
     "execution_count": 6,
     "metadata": {},
     "output_type": "execute_result"
    },
    {
     "data": {
      "text/html": [
       "<span style=\"white-space:pre; font-family: monospace\">1\n",
       "</span>"
      ]
     },
     "execution_count": 6,
     "metadata": {},
     "output_type": "execute_result"
    },
    {
     "data": {
      "text/html": [
       "<span style=\"white-space:pre; font-family: monospace\">0\n",
       "</span>"
      ]
     },
     "execution_count": 6,
     "metadata": {},
     "output_type": "execute_result"
    },
    {
     "data": {
      "text/html": [
       "<span style=\"white-space:pre; font-family: monospace\">1\n",
       "</span>"
      ]
     },
     "execution_count": 6,
     "metadata": {},
     "output_type": "execute_result"
    },
    {
     "data": {
      "text/html": [
       "<span style=\"white-space:pre; font-family: monospace\">0 1 0 0 1 1 0 1\n",
       "</span>"
      ]
     },
     "execution_count": 6,
     "metadata": {},
     "output_type": "execute_result"
    }
   ],
   "source": [
    "1 ≠ 1\n",
    "1 ≠ 2\n",
    "1 ≠ 1.0\n",
    "'u' ≠ 'u'\n",
    "'a' ≠ 'v'\n",
    "2 ≠ '2'\n",
    "0J1 ≠ 0J1\n",
    "1J3.4 ≠ 1J3.3\n",
    "\n",
    "1 1 1 'u' 'a' 2 0J1 1J3.4 ≠ 1 2 1.0 'u' 'v' '2' 0J1 1J3.3"
   ]
  },
  {
   "cell_type": "code",
   "execution_count": 7,
   "metadata": {},
   "outputs": [
    {
     "data": {
      "text/html": [
       "<span style=\"white-space:pre; font-family: monospace\">0 1 1 0 1 1 0 1 1 0 1 1\n",
       "</span>"
      ]
     },
     "execution_count": 7,
     "metadata": {},
     "output_type": "execute_result"
    },
    {
     "data": {
      "text/html": [
       "<span style=\"white-space:pre; font-family: monospace\">0 0 0 1 1 1 1 1 1 1 1 1\n",
       "</span>"
      ]
     },
     "execution_count": 7,
     "metadata": {},
     "output_type": "execute_result"
    }
   ],
   "source": [
    "1 ≠ oneTwoThree\n",
    "oneTwoThree ≠ ⍳12"
   ]
  },
  {
   "cell_type": "markdown",
   "metadata": {},
   "source": [
    "## _Less Than_\n",
    "\n",
    "The _Less Than_ function < checks if the left scalar is less than the right scalar. If you think of a number line going from left to right, this means < checks if the left scalar is _to the left of_ the right scalar on that number line:\n",
    "\n",
    "This \"less than\" notion is a property of numbers, and thus < doesn't work on scalars other than numbers. This is also true for _Greater Than_ (>), _Less Than or Equal To_ (≤) and _Greater Than or Equal To_ (≥)."
   ]
  },
  {
   "cell_type": "code",
   "execution_count": 8,
   "metadata": {},
   "outputs": [
    {
     "name": "stderr",
     "output_type": "stream",
     "text": [
      "DOMAIN ERROR\n",
      "      'a'<'v'\n",
      "         ∧\n"
     ]
    }
   ],
   "source": [
    "'a' < 'v'"
   ]
  },
  {
   "cell_type": "code",
   "execution_count": 9,
   "metadata": {},
   "outputs": [
    {
     "data": {
      "text/html": [
       "<span style=\"white-space:pre; font-family: monospace\">0\n",
       "</span>"
      ]
     },
     "execution_count": 9,
     "metadata": {},
     "output_type": "execute_result"
    },
    {
     "data": {
      "text/html": [
       "<span style=\"white-space:pre; font-family: monospace\">0\n",
       "</span>"
      ]
     },
     "execution_count": 9,
     "metadata": {},
     "output_type": "execute_result"
    },
    {
     "data": {
      "text/html": [
       "<span style=\"white-space:pre; font-family: monospace\">1\n",
       "</span>"
      ]
     },
     "execution_count": 9,
     "metadata": {},
     "output_type": "execute_result"
    },
    {
     "data": {
      "text/html": [
       "<span style=\"white-space:pre; font-family: monospace\">0 0 1 0 0 1 0 0 1 0 0 1\n",
       "</span>"
      ]
     },
     "execution_count": 9,
     "metadata": {},
     "output_type": "execute_result"
    }
   ],
   "source": [
    "2 < 1\n",
    "2 < 2\n",
    "2 < 3\n",
    "2 < oneTwoThree"
   ]
  },
  {
   "cell_type": "code",
   "execution_count": 10,
   "metadata": {},
   "outputs": [
    {
     "data": {
      "text/html": [
       "<span style=\"white-space:pre; font-family: monospace\">0 0 0 0 0 1 1 1 1 1 1 1\n",
       "</span>"
      ]
     },
     "execution_count": 10,
     "metadata": {},
     "output_type": "execute_result"
    }
   ],
   "source": [
    "5 < ⍳12"
   ]
  },
  {
   "cell_type": "markdown",
   "metadata": {},
   "source": [
    "For how many positive integers $k$ is $e^k$ below $1000$?"
   ]
  },
  {
   "cell_type": "code",
   "execution_count": 11,
   "metadata": {},
   "outputs": [
    {
     "data": {
      "text/html": [
       "<span style=\"white-space:pre; font-family: monospace\">6\n",
       "</span>"
      ]
     },
     "execution_count": 11,
     "metadata": {},
     "output_type": "execute_result"
    }
   ],
   "source": [
    "+/ (*⍳10) < 1000"
   ]
  },
  {
   "cell_type": "markdown",
   "metadata": {},
   "source": [
    "This means $e^7$ should be $1000$ or greater:"
   ]
  },
  {
   "cell_type": "code",
   "execution_count": 12,
   "metadata": {},
   "outputs": [
    {
     "data": {
      "text/html": [
       "<span style=\"white-space:pre; font-family: monospace\">1096.63\n",
       "</span>"
      ]
     },
     "execution_count": 12,
     "metadata": {},
     "output_type": "execute_result"
    }
   ],
   "source": [
    "*7"
   ]
  },
  {
   "cell_type": "markdown",
   "metadata": {},
   "source": [
    "## _Greater Than_\n",
    "\n",
    "The _Greater Than_ function > checks if the left scalar is greater than the right scalar, which on the number line checks if the left scalar is _to the right of_ the right scalar."
   ]
  },
  {
   "cell_type": "code",
   "execution_count": 13,
   "metadata": {},
   "outputs": [
    {
     "data": {
      "text/html": [
       "<span style=\"white-space:pre; font-family: monospace\">1\n",
       "</span>"
      ]
     },
     "execution_count": 13,
     "metadata": {},
     "output_type": "execute_result"
    },
    {
     "data": {
      "text/html": [
       "<span style=\"white-space:pre; font-family: monospace\">0\n",
       "</span>"
      ]
     },
     "execution_count": 13,
     "metadata": {},
     "output_type": "execute_result"
    },
    {
     "data": {
      "text/html": [
       "<span style=\"white-space:pre; font-family: monospace\">0\n",
       "</span>"
      ]
     },
     "execution_count": 13,
     "metadata": {},
     "output_type": "execute_result"
    },
    {
     "data": {
      "text/html": [
       "<span style=\"white-space:pre; font-family: monospace\">1 0 0 1 0 0 1 0 0 1 0 0\n",
       "</span>"
      ]
     },
     "execution_count": 13,
     "metadata": {},
     "output_type": "execute_result"
    }
   ],
   "source": [
    "2 > 1\n",
    "2 > 2\n",
    "2 > 3\n",
    "2 > oneTwoThree"
   ]
  },
  {
   "cell_type": "code",
   "execution_count": 14,
   "metadata": {},
   "outputs": [
    {
     "data": {
      "text/html": [
       "<span style=\"white-space:pre; font-family: monospace\">1 1 1 1 0 0 0 0 0 0 0 0\n",
       "</span>"
      ]
     },
     "execution_count": 14,
     "metadata": {},
     "output_type": "execute_result"
    }
   ],
   "source": [
    "5 > ⍳12"
   ]
  },
  {
   "cell_type": "markdown",
   "metadata": {},
   "source": [
    "What is the first integer $k$ for which $e^k$ is greater than $1000$?"
   ]
  },
  {
   "cell_type": "code",
   "execution_count": 15,
   "metadata": {},
   "outputs": [
    {
     "data": {
      "text/html": [
       "<span style=\"white-space:pre; font-family: monospace\">7\n",
       "</span>"
      ]
     },
     "execution_count": 15,
     "metadata": {},
     "output_type": "execute_result"
    }
   ],
   "source": [
    "⊃⍸ (*⍳10) > 1000"
   ]
  },
  {
   "cell_type": "markdown",
   "metadata": {},
   "source": [
    "So $e^7$ should be greater than $1000$:"
   ]
  },
  {
   "cell_type": "code",
   "execution_count": 16,
   "metadata": {},
   "outputs": [
    {
     "data": {
      "text/html": [
       "<span style=\"white-space:pre; font-family: monospace\">1096.63\n",
       "</span>"
      ]
     },
     "execution_count": 16,
     "metadata": {},
     "output_type": "execute_result"
    }
   ],
   "source": [
    "*7"
   ]
  },
  {
   "cell_type": "markdown",
   "metadata": {},
   "source": [
    "### Interchangeability of `<` and `>`\n",
    "\n",
    "The `<` and `>` functions have a really nice property: `⍺ < ⍵` is exactly the same as `⍵ > ⍺` so you can look for opportunities to change one with the other when changing the order of the expression allows you to remove, for example, a set of parentheses!\n",
    "\n",
    "Check how the two lines of code above can be simplified a bit by swapping the usages of `<` and `>` and by swapping their arguments:"
   ]
  },
  {
   "cell_type": "code",
   "execution_count": 17,
   "metadata": {},
   "outputs": [
    {
     "data": {
      "text/html": [
       "<span style=\"white-space:pre; font-family: monospace\">6\n",
       "</span>"
      ]
     },
     "execution_count": 17,
     "metadata": {},
     "output_type": "execute_result"
    },
    {
     "data": {
      "text/html": [
       "<span style=\"white-space:pre; font-family: monospace\">6\n",
       "</span>"
      ]
     },
     "execution_count": 17,
     "metadata": {},
     "output_type": "execute_result"
    },
    {
     "data": {
      "text/html": [
       "<span style=\"white-space:pre; font-family: monospace\">7\n",
       "</span>"
      ]
     },
     "execution_count": 17,
     "metadata": {},
     "output_type": "execute_result"
    },
    {
     "data": {
      "text/html": [
       "<span style=\"white-space:pre; font-family: monospace\">7\n",
       "</span>"
      ]
     },
     "execution_count": 17,
     "metadata": {},
     "output_type": "execute_result"
    }
   ],
   "source": [
    "+/ (*⍳10) < 1000\n",
    "+/  1000  > *⍳10\n",
    "⊃⍸ (*⍳10) > 1000\n",
    "⊃⍸  1000  < *⍳10"
   ]
  },
  {
   "cell_type": "markdown",
   "metadata": {},
   "source": [
    "This also means you are highly unlikely to ever need to use `⍨` with `<` or `>`, as dyadic `<⍨` simplifies to `>` and dyadic `>⍨` simplifies to `<`.\n",
    "\n",
    "What if you want to use `<⍨` or `>⍨` but to call them monadically? `⍵ < ⍵` and `⍵ > ⍵` are always `0` so there is also no need to do that!"
   ]
  },
  {
   "cell_type": "markdown",
   "metadata": {},
   "source": [
    "## _Less Than or Equal To_\n",
    "\n",
    "The _Less Than or Equal To_ `≤` function checks if the left scalar is less than or equal to the right argument."
   ]
  },
  {
   "cell_type": "code",
   "execution_count": 18,
   "metadata": {},
   "outputs": [
    {
     "data": {
      "text/html": [
       "<span style=\"white-space:pre; font-family: monospace\">0\n",
       "</span>"
      ]
     },
     "execution_count": 18,
     "metadata": {},
     "output_type": "execute_result"
    },
    {
     "data": {
      "text/html": [
       "<span style=\"white-space:pre; font-family: monospace\">1\n",
       "</span>"
      ]
     },
     "execution_count": 18,
     "metadata": {},
     "output_type": "execute_result"
    },
    {
     "data": {
      "text/html": [
       "<span style=\"white-space:pre; font-family: monospace\">1\n",
       "</span>"
      ]
     },
     "execution_count": 18,
     "metadata": {},
     "output_type": "execute_result"
    },
    {
     "data": {
      "text/html": [
       "<span style=\"white-space:pre; font-family: monospace\">0 1 1 0 1 1 0 1 1 0 1 1\n",
       "</span>"
      ]
     },
     "execution_count": 18,
     "metadata": {},
     "output_type": "execute_result"
    }
   ],
   "source": [
    "2 ≤ 1\n",
    "2 ≤ 2\n",
    "2 ≤ 3\n",
    "2 ≤ oneTwoThree"
   ]
  },
  {
   "cell_type": "markdown",
   "metadata": {},
   "source": [
    "The _Less Than or Equal To_ `≤` function can be seen as the logical disjunction of the functions _Less Than_ and _Equal To_ ; in fact, _less than or equal to_ is comprised of (less than `<`) (or `∨`) (equal to `=`)."
   ]
  },
  {
   "cell_type": "code",
   "execution_count": 19,
   "metadata": {},
   "outputs": [
    {
     "data": {
      "text/html": [
       "<span style=\"white-space:pre; font-family: monospace\">0 0 1 0 0 1 0 0 1 0 0 1\n",
       "</span>"
      ]
     },
     "execution_count": 19,
     "metadata": {},
     "output_type": "execute_result"
    },
    {
     "data": {
      "text/html": [
       "<span style=\"white-space:pre; font-family: monospace\">0 1 0 0 1 0 0 1 0 0 1 0\n",
       "</span>"
      ]
     },
     "execution_count": 19,
     "metadata": {},
     "output_type": "execute_result"
    },
    {
     "data": {
      "text/html": [
       "<span style=\"white-space:pre; font-family: monospace\">0 1 1 0 1 1 0 1 1 0 1 1\n",
       "</span>"
      ]
     },
     "execution_count": 19,
     "metadata": {},
     "output_type": "execute_result"
    },
    {
     "data": {
      "text/html": [
       "<span style=\"white-space:pre; font-family: monospace\">0 1 1 0 1 1 0 1 1 0 1 1\n",
       "</span>"
      ]
     },
     "execution_count": 19,
     "metadata": {},
     "output_type": "execute_result"
    }
   ],
   "source": [
    "2   <   oneTwoThree\n",
    "2   =   oneTwoThree\n",
    "2 (<∨=) oneTwoThree\n",
    "2   ≤   oneTwoThree"
   ]
  },
  {
   "cell_type": "markdown",
   "metadata": {},
   "source": [
    "## _Greater Than or Equal To_\n",
    "\n",
    "The _Greater Than or Equal To_ `≥` function checks if the left scalar is greater than or equal to the right argument."
   ]
  },
  {
   "cell_type": "code",
   "execution_count": 20,
   "metadata": {},
   "outputs": [
    {
     "data": {
      "text/html": [
       "<span style=\"white-space:pre; font-family: monospace\">1\n",
       "</span>"
      ]
     },
     "execution_count": 20,
     "metadata": {},
     "output_type": "execute_result"
    },
    {
     "data": {
      "text/html": [
       "<span style=\"white-space:pre; font-family: monospace\">1\n",
       "</span>"
      ]
     },
     "execution_count": 20,
     "metadata": {},
     "output_type": "execute_result"
    },
    {
     "data": {
      "text/html": [
       "<span style=\"white-space:pre; font-family: monospace\">0\n",
       "</span>"
      ]
     },
     "execution_count": 20,
     "metadata": {},
     "output_type": "execute_result"
    },
    {
     "data": {
      "text/html": [
       "<span style=\"white-space:pre; font-family: monospace\">1 1 0 1 1 0 1 1 0 1 1 0\n",
       "</span>"
      ]
     },
     "execution_count": 20,
     "metadata": {},
     "output_type": "execute_result"
    }
   ],
   "source": [
    "2 ≥ 1\n",
    "2 ≥ 2\n",
    "2 ≥ 3\n",
    "2 ≥ oneTwoThree"
   ]
  },
  {
   "cell_type": "markdown",
   "metadata": {},
   "source": [
    "In a similar fashion to the _Less Than or Equal To_ function, the _Greater Than or Equal To_ function can be broken up in three parts: (greater than `>`) (or `∨`) (equal to `=`)."
   ]
  },
  {
   "cell_type": "code",
   "execution_count": 21,
   "metadata": {},
   "outputs": [
    {
     "data": {
      "text/html": [
       "<span style=\"white-space:pre; font-family: monospace\">1 0 0 1 0 0 1 0 0 1 0 0\n",
       "</span>"
      ]
     },
     "execution_count": 21,
     "metadata": {},
     "output_type": "execute_result"
    },
    {
     "data": {
      "text/html": [
       "<span style=\"white-space:pre; font-family: monospace\">0 1 0 0 1 0 0 1 0 0 1 0\n",
       "</span>"
      ]
     },
     "execution_count": 21,
     "metadata": {},
     "output_type": "execute_result"
    },
    {
     "data": {
      "text/html": [
       "<span style=\"white-space:pre; font-family: monospace\">1 1 0 1 1 0 1 1 0 1 1 0\n",
       "</span>"
      ]
     },
     "execution_count": 21,
     "metadata": {},
     "output_type": "execute_result"
    },
    {
     "data": {
      "text/html": [
       "<span style=\"white-space:pre; font-family: monospace\">1 1 0 1 1 0 1 1 0 1 1 0\n",
       "</span>"
      ]
     },
     "execution_count": 21,
     "metadata": {},
     "output_type": "execute_result"
    }
   ],
   "source": [
    "2   >   oneTwoThree\n",
    "2   =   oneTwoThree\n",
    "2 (>∨=) oneTwoThree\n",
    "2   ≥   oneTwoThree"
   ]
  },
  {
   "cell_type": "markdown",
   "metadata": {},
   "source": [
    "### Interchangeability of `≤` and `≥`\n",
    "\n",
    "We have in `≤` and `≥` a property just like what we have with `<` and `>`: `⍺ ≤ ⍵` is exactly the same as `⍵ ≥ ⍺` so, again, you can look for opportunities to change one with the other. Sometimes this means we can simplify an expression by swapping the arguments, for example by dropping a set of parentheses.\n",
    "\n",
    "From this we also see there is no point in using dyadic `≤⍨` and `≥⍨`. As for the monadic versions of those, notice that `⍵ ≤ ⍵` and `⍵ ≥ ⍵` also return `1` so it isn't meaningful to consider monadic `≤⍨` or `≥⍨`."
   ]
  },
  {
   "cell_type": "markdown",
   "metadata": {},
   "source": [
    "# Logical opposites\n",
    "\n",
    "These six functions form three pairs of logical opposites:\n",
    "\n",
    " - [`=` is the opposite of `≠`](#Equal-and-Not-Equal-To-are-opposite-from-one-another) and vice versa;\n",
    " - [`<` is the opposite of `≥`](#Less-Than-and-Greater-Than-or-Equal-To-are-opposite-from-one-another) and vice versa;\n",
    " - [`>` is the opposite of `≤`](#Greater-Than-and-Less-Than-or-Equal-To-are-opposite-from-one-another) and vice versa."
   ]
  },
  {
   "cell_type": "markdown",
   "metadata": {},
   "source": [
    "## _Equal_ and _Not Equal To_ are opposite from one another\n",
    "\n",
    "If you look closely, the results above are the exact opposite of the results obtained in the beginning while using =.\n",
    "\n",
    "This is because the _Not Equal To_ function ≠ is the logical negation of = (notice the strikethrough over = that creates ≠), which means that using = and then negating is the same as using ≠; it also means that using ≠ and then negating it is the same as using just =."
   ]
  },
  {
   "cell_type": "code",
   "execution_count": 22,
   "metadata": {},
   "outputs": [
    {
     "data": {
      "text/html": [
       "<span style=\"white-space:pre; font-family: monospace\">1 0 0 1 0 0 1 0 0 1 0 0\n",
       "</span>"
      ]
     },
     "execution_count": 22,
     "metadata": {},
     "output_type": "execute_result"
    },
    {
     "data": {
      "text/html": [
       "<span style=\"white-space:pre; font-family: monospace\">1 0 0 1 0 0 1 0 0 1 0 0\n",
       "</span>"
      ]
     },
     "execution_count": 22,
     "metadata": {},
     "output_type": "execute_result"
    },
    {
     "data": {
      "text/html": [
       "<span style=\"white-space:pre; font-family: monospace\">1\n",
       "</span>"
      ]
     },
     "execution_count": 22,
     "metadata": {},
     "output_type": "execute_result"
    }
   ],
   "source": [
    "⎕← notUnequal ← ~ 1≠oneTwoThree\n",
    "⎕← equal      ← 1 = oneTwoThree\n",
    "equal ≡ notUnequal ⍝ Check if the arrays are the same"
   ]
  },
  {
   "cell_type": "code",
   "execution_count": 23,
   "metadata": {},
   "outputs": [
    {
     "data": {
      "text/html": [
       "<span style=\"white-space:pre; font-family: monospace\">1\n",
       "</span>"
      ]
     },
     "execution_count": 23,
     "metadata": {},
     "output_type": "execute_result"
    },
    {
     "data": {
      "text/html": [
       "<span style=\"white-space:pre; font-family: monospace\">1\n",
       "</span>"
      ]
     },
     "execution_count": 23,
     "metadata": {},
     "output_type": "execute_result"
    },
    {
     "data": {
      "text/html": [
       "<span style=\"white-space:pre; font-family: monospace\">1\n",
       "</span>"
      ]
     },
     "execution_count": 23,
     "metadata": {},
     "output_type": "execute_result"
    }
   ],
   "source": [
    "(~ 1=oneTwoThree ) ≡ (1 ≠ oneTwoThree)\n",
    "(~oneTwoThree=⍳12) ≡ (oneTwoThree ≠ ⍳12)\n",
    "(~oneTwoThree≠⍳12) ≡ (oneTwoThree = ⍳12)"
   ]
  },
  {
   "cell_type": "markdown",
   "metadata": {},
   "source": [
    "## _Less Than_ and _Greater Than or Equal To_ are opposite from one another\n",
    "\n",
    "This is fairly easy to deduce; in fact, for two numbers `⍵` and `⍺` we can imagine them on the number line. Then only one of three things can happen:\n",
    "\n",
    " 1. `⍵` is to the left of `⍺` which can be written as `⍵ < ⍺`;\n",
    " 2. `⍵` and `⍺` lie on the same point, which is `⍵ = ⍺`;\n",
    " 3. `⍵` is to the right of `⍺` which can be written as `⍵ > ⍺`;\n",
    " \n",
    "The _Less Than_ function returns `1` for the case 1. above and `0` for the cases 2. and 3.; on the other hand the _Greater Than or Equal To_ function returns `0` for the case 1. above and `1` for the cases 2. and 3. This shows `<` and `≥` are opposites from one another."
   ]
  },
  {
   "cell_type": "code",
   "execution_count": 24,
   "metadata": {
    "scrolled": true
   },
   "outputs": [
    {
     "data": {
      "text/html": [
       "<span style=\"white-space:pre; font-family: monospace\">1 2 3 4 5 1 2 3 4 5 1 2 3 4 5\n",
       "</span>"
      ]
     },
     "execution_count": 24,
     "metadata": {},
     "output_type": "execute_result"
    },
    {
     "data": {
      "text/html": [
       "<span style=\"white-space:pre; font-family: monospace\">1 2 3 1 2 3 1 2 3 1 2 3 1 2 3\n",
       "</span>"
      ]
     },
     "execution_count": 24,
     "metadata": {},
     "output_type": "execute_result"
    }
   ],
   "source": [
    "⎕← oneToFive   ← 15⍴⍳5\n",
    "⎕← oneTwoThree ← 15⍴⍳3"
   ]
  },
  {
   "cell_type": "code",
   "execution_count": 25,
   "metadata": {},
   "outputs": [
    {
     "data": {
      "text/html": [
       "<span style=\"white-space:pre; font-family: monospace\">0 0 0 0 0 1 0 0 0 0 1 1 0 0 0\n",
       "</span>"
      ]
     },
     "execution_count": 25,
     "metadata": {},
     "output_type": "execute_result"
    },
    {
     "data": {
      "text/html": [
       "<span style=\"white-space:pre; font-family: monospace\">1\n",
       "</span>"
      ]
     },
     "execution_count": 25,
     "metadata": {},
     "output_type": "execute_result"
    },
    {
     "data": {
      "text/html": [
       "<span style=\"white-space:pre; font-family: monospace\">1\n",
       "</span>"
      ]
     },
     "execution_count": 25,
     "metadata": {},
     "output_type": "execute_result"
    }
   ],
   "source": [
    "oneToFive < oneTwoThree\n",
    "(~ oneToFive < oneTwoThree) ≡ (  oneToFive ≥ oneTwoThree)\n",
    "(  oneToFive < oneTwoThree) ≡ (~ oneToFive ≥ oneTwoThree)"
   ]
  },
  {
   "cell_type": "markdown",
   "metadata": {},
   "source": [
    "## _Greater Than_ and _Less Than or Equal To_ are opposite from one another\n",
    "\n",
    "The reason why these two functions are opposite from one another is very similar to the explanation for `<` and `≥`."
   ]
  },
  {
   "cell_type": "code",
   "execution_count": 26,
   "metadata": {},
   "outputs": [
    {
     "data": {
      "text/html": [
       "<span style=\"white-space:pre; font-family: monospace\">1 1 1 0 0 1 0 0 0 0 1 1 0 0 0\n",
       "</span>"
      ]
     },
     "execution_count": 26,
     "metadata": {},
     "output_type": "execute_result"
    },
    {
     "data": {
      "text/html": [
       "<span style=\"white-space:pre; font-family: monospace\">1\n",
       "</span>"
      ]
     },
     "execution_count": 26,
     "metadata": {},
     "output_type": "execute_result"
    },
    {
     "data": {
      "text/html": [
       "<span style=\"white-space:pre; font-family: monospace\">1\n",
       "</span>"
      ]
     },
     "execution_count": 26,
     "metadata": {},
     "output_type": "execute_result"
    }
   ],
   "source": [
    "oneToFive ≤ oneTwoThree\n",
    "(~ oneToFive ≤ oneTwoThree) ≡ (  oneToFive > oneTwoThree)\n",
    "(  oneToFive ≤ oneTwoThree) ≡ (~ oneToFive > oneTwoThree)"
   ]
  },
  {
   "cell_type": "code",
   "execution_count": null,
   "metadata": {},
   "outputs": [],
   "source": []
  }
 ],
 "metadata": {
  "kernelspec": {
   "display_name": "Dyalog APL",
   "language": "apl",
   "name": "dyalog-kernel"
  },
  "language_info": {
   "file_extension": ".apl",
   "mimetype": "text/apl",
   "name": "APL"
  }
 },
 "nbformat": 4,
 "nbformat_minor": 4
}
