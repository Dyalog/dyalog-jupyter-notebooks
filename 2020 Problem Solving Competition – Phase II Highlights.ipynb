{
 "cells": [
  {
   "cell_type": "markdown",
   "metadata": {},
   "source": [
    "# 2020 Problem Solving Competition – Phase II Highlights\n",
    "\n",
    "With Dyalog’s APL [Problem Solving Competition 2021](https://www.dyalogaplcompetition.com/) in full swing, it’s time to highlight some of the excellent solutions that were submitted to last year’s edition.\n",
    "\n",
    "[Stefan Kruger](https://aplwiki.com/wiki/User:Xpqz) works for IBM making databases. While he tries to learn at least one new programming language a year, he got hooked on APL and participated in the competition. This is his perspective on some solutions that the judges picked out &ndash; call it the “Judges’ Pick”, if you like; smart, novel, or otherwise noteworthy solutions that can serve as an inspiration.\n",
    "\n",
    "---\n",
    "\n",
    "I’ll show a cool solution or two to each Phase II problem and dive into the details of a couple. If you need to refresh your memory with what the problems looked like, there's a [PDF of the Phase II problems](https://www.dyalog.com/uploads/files/student_competition/2020_problems_phase2.pdf).\n",
    "\n",
    "Oh, and note that at the time of writing there is still plenty time to take part in the current edition of the competition (and really, who _knew_ bowling was so complicated?) &ndash; there are some juicy cash prices to be won.\n",
    "\n",
    "## Problem 1: Take a Dive (1 task)\n",
    "\n",
    "_Level of Difficulty: Low_\n",
    "\n",
    "So let’s kick off with problem 1. The task was to calculate the score of an Olympic dive, consisting of a technical difficulty rating and vector containing either 3, 5 or 7 judges’ scores. Only the central three ordered judges’ scores should be considered, which should be summed and multiplied by the technical difficulty rating.\n",
    "\n",
    "Here is a cunning trick that wasn’t at all obvious:"
   ]
  },
  {
   "cell_type": "code",
   "execution_count": 1,
   "metadata": {},
   "outputs": [],
   "source": [
    "∇ score←dd DiveScore scores;sorted;cenzored;rotator\n",
    "  ⍝ 2020 APL Problem Solving Competition Phase II\n",
    "  ⍝ Problem 1, Task 1 - DiveScore\n",
    "   \n",
    "  sorted←{⍵[⍋⍵]}scores\n",
    "   \n",
    "  ⍝  0 1 2 rotates score indexes to 123, 23451 or 3456712\n",
    "  ⍝  So three center values always goes first\n",
    "  ⍝  51 = (0 1 2∧.= 3 5 7 ∘.|⍳100) ⍳ 1\n",
    "  rotator←51\n",
    " \n",
    "  cenzored←3↑rotator⌽sorted\n",
    "  score←⍎2⍕dd+.×cenzored\n",
    "∇"
   ]
  },
  {
   "cell_type": "code",
   "execution_count": 2,
   "metadata": {},
   "outputs": [
    {
     "data": {
      "text/html": [
       "<span style=\"white-space:pre; font-family: monospace\">63.8 67.6 60.75\n",
       "</span>"
      ]
     },
     "execution_count": 2,
     "metadata": {},
     "output_type": "execute_result"
    }
   ],
   "source": [
    "2.9 2.6 2.7 DiveScore¨(7 7.5 6.5 8 8 7.5 7)(9.5 8 8.5)(7.5 7 7 8.5 8)"
   ]
  },
  {
   "cell_type": "markdown",
   "metadata": {},
   "source": [
    "This contestant figured out that if a vector of length 3, 5 or 7 is rotated 51 steps, then the original central three items will always end up at the beginning. No, really. It turns out that 51 is the first number `X` such that `0 1 2≡3 5 7|X`. They tabulated the options and picked the first solution, guessing that it’d be less than 100:"
   ]
  },
  {
   "cell_type": "code",
   "execution_count": 3,
   "metadata": {},
   "outputs": [
    {
     "data": {
      "text/html": [
       "<span style=\"white-space:pre; font-family: monospace\">51\n",
       "</span>"
      ]
     },
     "execution_count": 3,
     "metadata": {},
     "output_type": "execute_result"
    }
   ],
   "source": [
    "⍸0 1 2∧.=3 5 7∘.|⍳100"
   ]
  },
  {
   "cell_type": "markdown",
   "metadata": {},
   "source": [
    "But there is another way &ndash; this is one of those situations where the [Chinese Remainder Theorem](https://en.wikipedia.org/wiki/Chinese_remainder_theorem) comes in handy, especially since it’s available on [APLcart](https://aplcart.info/?q=chinese#):"
   ]
  },
  {
   "cell_type": "code",
   "execution_count": 4,
   "metadata": {},
   "outputs": [
    {
     "data": {
      "text/html": [
       "<span style=\"white-space:pre; font-family: monospace\">51\n",
       "</span>"
      ]
     },
     "execution_count": 4,
     "metadata": {},
     "output_type": "execute_result"
    }
   ],
   "source": [
    "3 5 7 {m|⍵+.×⍺(⊣×⊢|∘⊃{0=⍵:1 0 ⋄ (⍵∇⍵|⍺)+.×0 1,⍪1,-⌊⍺÷⍵})¨⍨⍺÷⍨m←×/⍺} 0 1 2 ⍝ https://aplcart.info/?q=chinese#"
   ]
  },
  {
   "cell_type": "markdown",
   "metadata": {},
   "source": [
    "If you figured _that_ out, award yourself a well-deserved pat on the back. For us mortals, we probably all did something rather more pedestrian:"
   ]
  },
  {
   "cell_type": "code",
   "execution_count": 5,
   "metadata": {},
   "outputs": [],
   "source": [
    "]dinput\n",
    "DiveScore ← {\n",
    "    d ← 2-2÷⍨7-≢⍵       ⍝ How many items should we drop each side?\n",
    "    ⍺+.×(-d)↓d↓⍵[⍋⍵]\n",
    "}"
   ]
  },
  {
   "cell_type": "markdown",
   "metadata": {},
   "source": [
    "## Problem 2 – Another Step in the Proper Direction (1 task)\n",
    "\n",
    "_Level of Difficulty: Medium_\n",
    "\n",
    "Problem 2 builds upon Problem 5 from Phase I. In short, we are asked to write a function `Steps` that takes a two-element vector to the right, defining a start and end value, and an optional left integer argument that tweaks how we generate values from `start` to `end`. The complexity here comes from the many combinations of behaviours from what exactly is given as the left argument: integer or float? Positive or negative? Also, the range must be inclusive, even if a floating-point step size means that the end point is overshot. I took this on thinking it would be trivial &ndash; it wasn't.\n",
    "\n",
    "Here's a great solution that manages to combine this functionality with a call to a single dfn:"
   ]
  },
  {
   "cell_type": "code",
   "execution_count": 6,
   "metadata": {},
   "outputs": [],
   "source": [
    "∇ steps←{p}Steps fromTo;segments;width\n",
    "  width ← |-/fromTo\n",
    "  :If 0=⎕NC'p' ⍝ No left argument: same as Problem 5 of Phase I\n",
    "      segments ← 0,⍳width\n",
    "  :ElseIf p<0 ⍝ -⌊p is the number of equally-sized steps to take\n",
    "      segments ← (-⌊p) {0,⍵×⍺÷⍨⍳⍺} width\n",
    "  :ElseIf p>0 ⍝ p is the step size\n",
    "      segments ← p {⍵⌊⍺×0,⍳⌈⍵÷⍺} width\n",
    "  :ElseIf p=0 ⍝ As if we took zero step\n",
    "      segments ← 0\n",
    "  :EndIf\n",
    "  ⍝ Take into account the start point and the direction.\n",
    "  steps ← fromTo {(⊃⍺)+(-×-/⍺)×⍵} segments\n",
    "∇"
   ]
  },
  {
   "cell_type": "markdown",
   "metadata": {},
   "source": [
    "I ended up with something more convoluted, with a few ugly special cases, and shamelessly borrowing from [dfns.iotag](http://dfns.dyalog.com/c_iotag.htm):"
   ]
  },
  {
   "cell_type": "code",
   "execution_count": 7,
   "metadata": {},
   "outputs": [],
   "source": [
    "]dinput\n",
    "Steps ← {\n",
    "    range ← {\n",
    "        r ← ⍺-s×⎕IO-⍳⌊1-(⍺-⊃⍵)÷s←×/1↓⍵,(⍺>⊃⍵)/¯1 ⍝ \"inspired\" by dfns.iotag\n",
    "        (⊃⍵)≠⊃⊖r: r,⊃⍵ ⋄ r   ⍝ Ensure endpoint is included -- yeuch :(\n",
    "    }\n",
    "    ⍺ ← ⍬\n",
    "    (b e) ← ⍵\n",
    "    ⍺≡⍬: b range e        ⍝ No ⍺\n",
    "    ⍺=0: b                ⍝ Zero step; return start point\n",
    "    ⍺>0: b range e ⍺      ⍝ Positive ⍺\n",
    "    len ← (e-b)÷count←⌊-⍺ ⍝ Negative ⍺\n",
    "    len=0: b/⍨1+count     \n",
    "    b range e len\n",
    "}"
   ]
  },
  {
   "cell_type": "markdown",
   "metadata": {},
   "source": [
    "## Problem 3 – Past Tasks Blast (1 task)\n",
    "\n",
    "_Level of Difficulty: Medium_\n",
    "\n",
    "The task here was to scrape the Dyalog APL Problem Solving Competition webpage to extract all links to PDF files. We get the suggestion to use either Dyalog's `HttpCommand` or shelling out to a system mechanism for fetching a web page.\n",
    "\n",
    "To use `HttpCommand`, we first need to load it:"
   ]
  },
  {
   "cell_type": "code",
   "execution_count": 8,
   "metadata": {},
   "outputs": [
    {
     "data": {
      "text/html": [
       "<span style=\"white-space:pre; font-family: monospace\">#.HttpCommand\n",
       "</span>"
      ]
     },
     "execution_count": 8,
     "metadata": {},
     "output_type": "execute_result"
    }
   ],
   "source": [
    "]load HttpCommand"
   ]
  },
  {
   "cell_type": "markdown",
   "metadata": {},
   "source": [
    "Here’s a slightly tweaked competition submission, showing great flair in how to process XML:"
   ]
  },
  {
   "cell_type": "code",
   "execution_count": 9,
   "metadata": {},
   "outputs": [],
   "source": [
    "]dinput\n",
    "PastTasks ← {\n",
    "    url ← ⍵\n",
    "    r ← (HttpCommand.Get url).Data  ⍝ get page contents\n",
    "    (d n c a t) ← ↓⍉⎕XML r          ⍝ depth; name; content; attributes; type\n",
    "    (k v) ← ↓⍉ ⊃⍪/ ((,'a')∘≡¨n)/a   ⍝ extract key-value pairs of <a> elements\n",
    "    urls ← ('href'∘≡¨k)/v           ⍝ get URLs\n",
    "    pdfs ← ('.pdf'∘≡¨¯4↑¨urls)/urls ⍝ filter .pdfs\n",
    "    base ← ⊃⌽⊃('base'∘≡¨n)/a        ⍝ base URL\n",
    "    base∘,¨pdfs\n",
    "} "
   ]
  },
  {
   "cell_type": "markdown",
   "metadata": {},
   "source": [
    "The problem statement suggests that a regex-based solution might be tolerable. Here's a stab at that approach:"
   ]
  },
  {
   "cell_type": "code",
   "execution_count": 10,
   "metadata": {},
   "outputs": [],
   "source": [
    "]dinput\n",
    "PastTasks ← {\n",
    "    body ← (HttpCommand.Get ⍵).Data\n",
    "    pdfs ← '<a href=\"(.+?\\.pdf)\"'⎕S'\\1'⊢body\n",
    "    base ← '<base href=\"(.+?)\"'⎕S'\\1'⊢body\n",
    "    base,¨pdfs\n",
    "}"
   ]
  },
  {
   "cell_type": "markdown",
   "metadata": {},
   "source": [
    "So which is the \"better\" solution? Well, the first approach has a number of advantages: firstly, is much more robust (provided that the web page is valid XHTML, which we are told is a given), meaning that we can abdicate responsibility for dealing with markup quirks (single vs double quotes, whitespace etc) to the built-in `⎕XML` system function, and secondly, there is [that (in)famous quote](http://regex.info/blog/2006-09-15/247) from Jamie Zawinski:\n",
    "\n",
    "> Some people, when confronted with a problem, think “I know, I'll use regular expressions.” Now they have two problems. _&ndash; jwz_\n",
    "\n",
    "Mixing in a liberal helping of regular expressions in with APL is perhaps not helping APL's unfair reputation for being write-only.\n",
    "\n",
    "However, when dealing with patterns in textual data, as we unquestionably are here, regular expressions -- even in a powerful language like APL -- are sharp tools that are hard to beat, and any programmer worth their salt owes it to themselves to master them. In the case above, had the data not neatly been parseable as XML, it would have been more awkward to solve a problem like this relying only on APL primitives. "
   ]
  },
  {
   "cell_type": "markdown",
   "metadata": {},
   "source": [
    "## Problem 4 – Bioinformatics (2 tasks)\n",
    "\n",
    "_Level of Difficulty: Medium_\n",
    "\n",
    "The two tasks making up Problem 4 are borrowed from Project Rosalind, which is a Bioinformatics problem collection that often has great APL affinity:\n",
    "\n",
    "* [Locating Restriction Sites](http://rosalind.info/problems)/revp/\n",
    "* [Counting Subsets](http://rosalind.info/problems/sset/)\n",
    "\n",
    "and a hint that one benefits from understanding _modular multiplication_, as this isn't built into Dyalog APL.\n",
    "\n",
    "Here is a great example:"
   ]
  },
  {
   "cell_type": "code",
   "execution_count": 11,
   "metadata": {},
   "outputs": [],
   "source": [
    "]dinput\n",
    "revp ← {                    ⍝ r ← revp dna\n",
    "   dnaNum ← 'ACGT'⍳⍵        ⍝ Convert to 1..4 so that A+T = C+G = 5\n",
    "   FindRevp ← {             ⍝ Given chunk size, extract positions and build the output format\n",
    "       chunks ← ⍵,/dnaNum\n",
    "       isRevp ← (⊢≡5-⌽)¨chunks\n",
    "       ⍵,⍨⍪⍸isRevp\n",
    "   }\n",
    "   ⊃⍪/FindRevp¨4 6 8 10 12  ⍝ Test against all chunk sizes and collect results\n",
    "}"
   ]
  },
  {
   "cell_type": "code",
   "execution_count": 12,
   "metadata": {},
   "outputs": [],
   "source": [
    "]dinput\n",
    "sset ← {          ⍝ r←sset n\n",
    "   bin ← 2⊥⍣¯1⊢⍵  ⍝ Binary digits\n",
    "   arr ← ⌽2*bin   ⍝ Repeated squaring: Starting from MSB and 1, square ⍵, multiply ⍺, modulo m\n",
    "   mod ← 1000000\n",
    "   {mod|⍺×⍵*2}/arr,1\n",
    "}"
   ]
  },
  {
   "cell_type": "markdown",
   "metadata": {},
   "source": [
    "This contestant also saw fit to include their test suite; a nice touch! [Roger Hui's version of assert](https://www.jsoftware.com/papers/APLDesignExercises1.htm#47) has become the de facto standard, and the contestant puts it to good use:"
   ]
  },
  {
   "cell_type": "code",
   "execution_count": 13,
   "metadata": {},
   "outputs": [],
   "source": [
    "Assert ← {⍺←'assertion failure' ⋄ 0∊⍵:⍺ ⎕SIGNAL 8 ⋄ shy←0} ⍝ Roger Hui's Assert"
   ]
  },
  {
   "cell_type": "code",
   "execution_count": 14,
   "metadata": {},
   "outputs": [],
   "source": [
    "]dinput\n",
    "RevpTest ← {\n",
    "   s ← 'TCAATGCATGCGGGTCTATATGCAT'\n",
    "   ans ← revp s\n",
    "   Assert 8 2≡⍴ans:\n",
    "   Assert 5 4 7 4 17 4 18 4 21 4 4 6 6 6 20 6≡∊ans:\n",
    "  \n",
    "   header ← 'Contest2020/Data/'  ⍝ Change as needed\n",
    "   data1 ← ∊1↓⊃⎕NGET (header,'rosalind_revp_1_dataset.txt') 1\n",
    "   ans1 ← ↑⍎¨⊃⎕NGET (header,'rosalind_revp_1_output.txt') 1\n",
    "   data2 ← ∊1↓⊃⎕NGET (header,'rosalind_revp_2_dataset.txt') 1\n",
    "   ans2 ← ↑⍎¨⊃⎕NGET (header,'rosalind_revp_2_output.txt') 1\n",
    "   Assert ans1 ≡ revp data1:\n",
    "   Assert ans2 ≡ revp data2:\n",
    "   'Test passed'\n",
    "}"
   ]
  },
  {
   "cell_type": "code",
   "execution_count": 15,
   "metadata": {},
   "outputs": [],
   "source": [
    "]dinput\n",
    "SsetTest ← {\n",
    "   Assert 8 = sset 3:\n",
    "   Assert 551872 = sset 857:\n",
    "   Assert 935424 = sset 870:\n",
    "   'Test passed'\n",
    "}"
   ]
  },
  {
   "cell_type": "markdown",
   "metadata": {},
   "source": [
    "## Problem 5 – Future and Present Value (2 tasks)\n",
    "\n",
    "_Level of Difficulty: Medium_\n",
    "\n",
    "Problem 5 is some hedge fundy maths, or something where my eyes glazed over before I fully understood the ask. What is this, K‽\n",
    "\n",
    "This solution is impressively compact &ndash; I removed the comments to highlight the APL artistry on display: no less than three scans, count'em!"
   ]
  },
  {
   "cell_type": "code",
   "execution_count": 16,
   "metadata": {},
   "outputs": [],
   "source": [
    "rr ← {AR×+\\⍺÷AR←×\\1+⍵} \n",
    "pv ← {+/⍺÷×\\1+⍵} "
   ]
  },
  {
   "cell_type": "markdown",
   "metadata": {},
   "source": [
    "Here's how the competitor outlined how their solution works:\n",
    "\n",
    "### Problem 5, Task 1 &ndash; `rr`\n",
    "  \n",
    "This can be calculated elegantly with the following operations:\n",
    "1. Find the accumulated interest rate (AR) for each term (AR←×\\1+⍵).\n",
    "2. Deprecate the cashflow amounts by dividing them by AR. This finds the present value of all the amounts.\n",
    "3. Accumulate all the present values of the amounts to find the total present value at each term.\n",
    "4. Multiply by AR to find future values at each term.\n",
    "\n",
    "This way the money that was invested or withdrawn in a term is not\n",
    "changed for that term, but the money that came from the previous terms\n",
    "is multiplied by the current interest rate for each term arriving to the\n",
    "correct recurrent relation:\n",
    "\n",
    "```text\n",
    "Step 2) amounts[i]/AR[i]                     ⍝ ≡ PV[i]\n",
    "Step 3) amounts[i]/AR[i] + APV[i-1]\n",
    "Step 4) amounts[i] + APV[i-1]×AR[i]\n",
    "        amounts[i] + APV[i-1]×AR[i-1]×(1+rate[i])\n",
    "        amounts[i] + r[i-1]×(1+rate[i])      ⍝ ≡ r[i]\n",
    "```"
   ]
  },
  {
   "cell_type": "markdown",
   "metadata": {},
   "source": [
    "## Problem 6 – Merge (1 task)\n",
    "\n",
    "_Level of Difficulty: Medium_\n",
    "\n",
    "Mail merge &ndash; gotta love it. Your spam folder is full of bad examples of this: “Dear $FIRSTNAME, do you want to purchase a bridge?” We’re given a template file with patterns such as `@firstname@` which are to be replaced with values stored in a JSON file. Here's a smart approach from a competitor who knows their way around the `@` operator:"
   ]
  },
  {
   "cell_type": "code",
   "execution_count": 17,
   "metadata": {},
   "outputs": [],
   "source": [
    "]dinput\n",
    "Merge ← {\n",
    "   templateFile ← ⍺\n",
    "   jsonFile ← ⍵\n",
    "   template ← ⊃⎕NGET templateFile\n",
    "   ns ← ⎕JSON⊃⎕NGET jsonFile\n",
    "\n",
    "   getValue ← {\n",
    "       0=⍴⍵:,'@'   ⍝ '@@'         → ,'@'\n",
    "       6::'???'    ⍝ ~⍵∊ns.⎕NL ¯2 → '???'\n",
    "       ⍕ns⍎⍵       ⍝  ⍵∊ns.⎕NL ¯2 → ⍕ns.⍵\n",
    "   }\n",
    "   ∊getValue¨@(⍴⍴1 0⍨)'@'(1↓¨=⊂⊢)template\n",
    "}"
   ]
  },
  {
   "cell_type": "markdown",
   "metadata": {},
   "source": [
    "The key insight here is that since each template starts and ends with the same marker, we can partition the data on sections beginning with `@` and then we'll have a vector where every other element is a template to be substituted. Here's an example of this:"
   ]
  },
  {
   "cell_type": "code",
   "execution_count": 18,
   "metadata": {},
   "outputs": [
    {
     "data": {
      "text/html": [
       "<span style=\"white-space:pre; font-family: monospace\">┌─────┬─┬─────────┬─┬────────┬─────────────────────────────────────────────────┐\n",
       "│title│ │firstname│ │lastname│, would you be interested in the Brooklyn Bridge?│\n",
       "├─────┼─┼─────────┼─┼────────┼─────────────────────────────────────────────────┤\n",
       "│1    │0│1        │0│1       │0                                                │\n",
       "└─────┴─┴─────────┴─┴────────┴─────────────────────────────────────────────────┘\n",
       "</span>"
      ]
     },
     "execution_count": 18,
     "metadata": {},
     "output_type": "execute_result"
    }
   ],
   "source": [
    "↑('@'(1↓¨=⊂⊢) '@title@ @firstname@ @lastname@, would you be interested in the Brooklyn Bridge?') (1 0 1 0 1 0)"
   ]
  },
  {
   "cell_type": "markdown",
   "metadata": {},
   "source": [
    "I added the second row for clarity to show the alternating templates. Cool, huh? However, this only works correctly if the data leads with a template. Consider:\n"
   ]
  },
  {
   "cell_type": "code",
   "execution_count": 19,
   "metadata": {},
   "outputs": [
    {
     "data": {
      "text/html": [
       "<span style=\"white-space:pre; font-family: monospace\">┌─────────┬─┬────────┬───────────────────────────┐\n",
       "│firstname│ │lastname│, or maybe the Golden Gate?│\n",
       "└─────────┴─┴────────┴───────────────────────────┘\n",
       "</span>"
      ]
     },
     "execution_count": 19,
     "metadata": {},
     "output_type": "execute_result"
    }
   ],
   "source": [
    "'@'(1↓¨=⊂⊢) 'Dear @firstname@ @lastname@, or maybe the Golden Gate?'"
   ]
  },
  {
   "cell_type": "markdown",
   "metadata": {},
   "source": [
    "We still have the alternating templates, but the prefix (<code>Dear </code>) is lost. We can tweak the `Merge` function a bit to cater for this if we need to:"
   ]
  },
  {
   "cell_type": "code",
   "execution_count": 20,
   "metadata": {},
   "outputs": [],
   "source": [
    "]dinput\n",
    "Merge ← {\n",
    "    templateFile ← ⍺\n",
    "    jsonFile ← ⍵\n",
    "    template ← ⊃⎕NGET templateFile\n",
    "    ns ← ⎕JSON⊃⎕NGET jsonFile\n",
    "    first ← templ⍳'@'\n",
    "    first>≢templ: templ    ⍝ No templates at all\n",
    "    prefix ← first↑templ   ⍝ Anything preceding the first '@'?\n",
    "\n",
    "    getValue ← {\n",
    "        0=⍴⍵:,'@'   ⍝ '@@'         → ,'@'\n",
    "        6::'???'    ⍝ ~⍵∊ns.⎕NL ¯2 → '???'\n",
    "        ⍕ns⍎⍵       ⍝  ⍵∊ns.⎕NL ¯2 → ⍕ns.⍵\n",
    "    }\n",
    "    ∊prefix,getValue¨@(⍴⍴1 0⍨)'@'(1↓¨=⊂⊢)template\n",
    "}"
   ]
  },
  {
   "cell_type": "markdown",
   "metadata": {},
   "source": [
    "Now, the competition is pitched such that “proper array solutions” are preferred &ndash; and for good reasons, most of the time. However, it’s hard to overlook some industrial regex action in this case. Strictly for Perl-fans:"
   ]
  },
  {
   "cell_type": "code",
   "execution_count": 21,
   "metadata": {},
   "outputs": [],
   "source": [
    "]dinput\n",
    "Merge ← {\n",
    "    mrg ← ⎕JSON⊃⎕NGET ⍵\n",
    "    keys ← mrg.⎕NL¯2\n",
    "    vals ← mrg.⍎¨keys\n",
    "\n",
    "    ('@',¨(keys,'' '[^@]+'),¨'@')⎕R((⍕¨vals),'@' '???')⊃⎕NGET ⍺\n",
    "}"
   ]
  },
  {
   "cell_type": "markdown",
   "metadata": {},
   "source": [
    "## Problem 7 – UPC (3 tasks)\n",
    "\n",
    "_Level of Difficulty: Medium_\n",
    "\n",
    "Problem 7 had us learning more about bar codes than we ever thought necessary. Read them, write them, verify them, scan them &ndash; forwards and backwards no less. Good scope for stretching your array muscles on this one. The eagle-eyed amongst you may have spotted that the verification aspect is a simplified version of [Luhn's algorithm](https://en.wikipedia.org/wiki/Luhn_algorithm), which a certain Morten Kromberg used to illustrate APL’s array capabilities at [JIO](https://jiotalks.com/watch/204/home/Morten_Kromberg_&_Aaron_Hsu/Pragmatic_Array_Oriented_Functional_Programming) a while back.\n",
    "\n",
    "Here's a good solution:"
   ]
  },
  {
   "cell_type": "code",
   "execution_count": 22,
   "metadata": {},
   "outputs": [],
   "source": [
    "CheckDigit ← (10|∘-+.×∘(11⍴3 1))          ⍝ Computes the check digit for a UPC-A barcode.\n",
    "\n",
    "UPCRD ← 114 102 108 66 92 78 80 68 72 116 ⍝ Right digits of a UPC-A barcode, base 10.\n",
    "bUPCRD ← ⍉2∘⊥⍣¯1⊢UPCRD                    ⍝ Bit matrix with one right digit per row."
   ]
  },
  {
   "cell_type": "code",
   "execution_count": 23,
   "metadata": {},
   "outputs": [],
   "source": [
    "]dinput\n",
    "WriteUPC ← {\n",
    "   ⍝ Writes the bits of a UPC-A barcode.  \n",
    "   ~((11∘=≢)∧(∧/0∘≤∧≤∘9))⍵: ¯1            ⍝ Check for simple errors\n",
    "   b ← bUPCRD[⍵,CheckDigit ⍵;]  \n",
    "   1 0 1, (,~6↑b), 0 1 0 1 0, (,6↓b), 1 0 1 \n",
    "}"
   ]
  },
  {
   "cell_type": "code",
   "execution_count": 24,
   "metadata": {},
   "outputs": [],
   "source": [
    "]dinput\n",
    "ReadUPC ← {\n",
    "   ⍝ Reads a UPC-A barcode into its digits.\n",
    "   ~(∧/0∘≤∧≤∘1)⍵: ¯1                 ⍝ Input isn't a bit vector\n",
    "   95≠≢⍵: ¯1                         ⍝ Number of bits must be 95\n",
    "   (b l m r e) ← ⍵ ⊂⍨ (∊¯1∘↓,⌽) (3↑1)(42↑1)(5↑1)\n",
    "   \n",
    "   b ∨⍥(≢∘1 0 1) e: ¯1               ⍝ Wrong patterns for the guards\n",
    "   m≢0 1 0 1 0: ¯1\n",
    "   bits ← ↓12 7⍴ l,r\n",
    "   C ← (↓bUPCRD)∘⍳ ~@(⍳6)            ⍝ Convert bits to digits\n",
    "   tf ← ~∧/10 > nums ← C bits        ⍝ Should we try flipping the bits?\n",
    "   nums ← (nums×1-tf) + tf×C⌽↓⌽↑bits\n",
    "   ∨/10=nums: ¯1                     ⍝ Bits simply aren't right\n",
    "   (¯1↑nums)≠CheckDigit 11↑nums: ¯1  ⍝ Bad check digit\n",
    "   nums\n",
    "}"
   ]
  },
  {
   "cell_type": "markdown",
   "metadata": {},
   "source": [
    "## Problem 8 – Balancing the Scales (1 task)\n",
    "\n",
    "_Level of Difficulty: Hard_\n"
   ]
  },
  {
   "cell_type": "markdown",
   "metadata": {},
   "source": [
    "Our task is to partition a set of numbers into two groups of equal sum if this is possible, or return `⍬` if not. This is a well-known NP-complete problem, called [The Partition Problem](https://en.wikipedia.org/wiki/Partition_problem), and as such has no polynomial time, exact solutions. The problem statement indicates that we only need to consider a set of 20 numbers or fewer, which is a bit of a hint on what kind of solution is expected.\n",
    "\n",
    "This problem, in common with many other NP problems, also has a plethora of interesting heuristic solutions: polynomial algorithms that whilst not guaranteed to always find the optimal solution will either get close, or be correct for a significant subset of the problem domain in a fraction of the time the exact algorithms would take.\n",
    "\n",
    "However, it’s clear that Dyalog expects us to give an exact solution, and has given us an upper bound on the input data length. Finally, we're offered the cryptic advice that \n",
    "\n",
    "> Understanding the nuances of the problem is the key to developing a good algorithm.\n",
    "\n",
    "Yes, thank you, master Yoda.\n",
    "\n",
    "Here's a great, efficient solution:"
   ]
  },
  {
   "cell_type": "code",
   "execution_count": 25,
   "metadata": {},
   "outputs": [],
   "source": [
    "]dinput\n",
    "Balance←{\n",
    "   sum←1⊥⍵\n",
    "   2|sum: ⍬   ⍝ Lists with an odd sum cannot be split into equal parts.\n",
    "   halfsum←sum÷2\n",
    "  \n",
    "   ⍝ A partitioning method based on the algorithm by Horowitz and Sahni.\n",
    "   ⍝ The basic idea of the algorithm is to split the input into two parts,\n",
    "   ⍝ and then generate all subset sums for these parts. Then the problem\n",
    "   ⍝ becomes finding a sum of two subset sums from different parts\n",
    "   ⍝ equal to the desired value. Instead of sorting the sums and comparing\n",
    "   ⍝ them like in the original algorithm, standard APL searching primitives\n",
    "   ⍝ ∊ and ⍳ are used. Another key idea is to generate the subset sums\n",
    "   ⍝ in a specific order, so that the nth subset sum in the vectors a and b\n",
    "   ⍝ is the sum of the elements chosen by the binary representation of n.\n",
    "   ⍝ This means that we can get the elements of the solution sum\n",
    "   ⍝ without having to generate anything but the sums.\n",
    "   horowitzsahni←{\n",
    "       s←⍵(↑{⍺⍵}↓)⍨⌊2÷⍨≢⍵                          ⍝ Split the input.\n",
    "       a b←⊃¨(⊢,+)/¨s,¨0                           ⍝ Generate the subset sums.\n",
    "       indexes←a {(⊢,⍵⍳⍺⌷⍨(≢⍺)⌊⊢)1⍳⍨⍺∊⍵} halfsum-b ⍝ Search for solution indexes.\n",
    "       indexes[2]>≢b: ⍬\n",
    "       ⍵ {(⍺/⍨~⍵)(⍵/⍺)} ∊(2⍴¨⍨≢¨s)⊤¨indexes-1      ⍝ Get the solution from the indexes.\n",
    "   }\n",
    "  \n",
    "   ⍝ A simple exhaustive search. It uses the same binary representation\n",
    "   ⍝ idea as the horowitzsahni function.\n",
    "   exhaustive←{\n",
    "       i←halfsum⍳⍨⊃(⊢,+)/⍵,0\n",
    "       i>2*≢⍵: ⍬\n",
    "       ⍵ {(⍺/⍨~⍵)(⍵/⍺)} (2⍴⍨≢⍵)⊤i-1\n",
    "   }\n",
    "\n",
    "   ⍝ The exhaustive method performs better than the Horowitz-Sahni method\n",
    "   ⍝ for small input sizes. 14 seems to be a reasonable cutoff point.\n",
    "   14>≢⍵: exhaustive ⍵\n",
    "   horowitzsahni ⍵\n",
    "} "
   ]
  },
  {
   "cell_type": "markdown",
   "metadata": {},
   "source": [
    "There are a number of clever touches here &ndash; there are actually two different solutions, an exhaustive search and an implementation of the algorithm due to Horowitz and Sahni, which, although still exponential, is known to be one of the fastest for certain subsets and input sizes. A switch based on input size checks for the crossover point and chooses the fastest option. And this is _fast_ &ndash; five times faster than that of the Grand Prize winner, and four orders of magnitude faster than the slowest solution. \n",
    "\n",
    "Such a performance spread is intriguing, so there are clearly lessons to be learned here. When I tried this problem, I ended up with a pretty straight-forward (that is, naive) brute force search:"
   ]
  },
  {
   "cell_type": "code",
   "execution_count": 26,
   "metadata": {},
   "outputs": [],
   "source": [
    "]dinput\n",
    "Balance ← {⎕IO←0\n",
    "    total ← +/⍵\n",
    "    2|total: ⍬             ⍝ Sum must be divisible by 2\n",
    "    psum ← total÷2         ⍝ Our target partition sum\n",
    "    bitp ← ⍉2∘⊥⍣¯1⍳2*≢⍵    ⍝ All possible bit patterns up to ≢⍵\n",
    "    idx ← ⍸<\\psum=bitp+.×⍵ ⍝ First index of partition sum = target\n",
    "    ⍬≡idx: ⍬               ⍝ If we have no 1s, there is no solution\n",
    "    part ← idx⌷bitp        ⍝ Partition corresponding to solution index\n",
    "    (part/⍵)(⍵/⍨~part)     ⍝ Compress input by solution pattern and inverse\n",
    "}"
   ]
  },
  {
   "cell_type": "markdown",
   "metadata": {},
   "source": [
    "If you come to APL from a scalar language, that approach must seem incredibly wasteful: make _all_ bit patterns. Try _all_ sums. Search for the right one, if it exists. But as it turns out, this is APL home turf advantage. Let’s try to demonstrate this point. If you did this “loop and branch”, you’d iterate over the bit patterns and stop once you find the first solution &ndash; in fact, for the test data in the problem specification, the first solution appears at around the 1500<sup>th</sup> bit pattern if you generate them as I do above. The vector version would need to consider the whole space of around"
   ]
  },
  {
   "cell_type": "code",
   "execution_count": 27,
   "metadata": {},
   "outputs": [
    {
     "data": {
      "text/html": [
       "<span style=\"white-space:pre; font-family: monospace\">1048575\n",
       "</span>"
      ]
     },
     "execution_count": 27,
     "metadata": {},
     "output_type": "execute_result"
    }
   ],
   "source": [
    "¯1+2*20"
   ]
  },
  {
   "cell_type": "markdown",
   "metadata": {},
   "source": [
    "a million or so, so quite a difference. Surely, in this case the scalar approach should be way faster? Only one way to find out. We can make a scalar version in several ways &ndash; here's the “Scheme” version:"
   ]
  },
  {
   "cell_type": "code",
   "execution_count": 28,
   "metadata": {},
   "outputs": [],
   "source": [
    "]dinput\n",
    "BalanceScalar ← {⎕IO←0     ⍝ Warning: this is not the APL Way, as we shall see.\n",
    "    total ← +/⍵\n",
    "    2|total: ⍬             ⍝ Sum must be divisible by 2\n",
    "    psum ← total÷2         ⍝ Our target partition sum\n",
    "    data ← ⍵\n",
    "    bitp ← ↓⍉2∘⊥⍣¯1⍳2*≢⍵   ⍝ Pre-compute the bit patterns\n",
    "    {                      ⍝ Try one sum after the other, halt on first solution\n",
    "        0=⍵: ⍬\n",
    "        patt ← ⍵⊃bitp\n",
    "        psum=patt+.×data: (patt/data)(data/⍨~patt) ⍝ Exit on first solution found\n",
    "        ∇¯1+⍵\n",
    "    } ¯1+≢bitp\n",
    "}"
   ]
  },
  {
   "cell_type": "markdown",
   "metadata": {},
   "source": [
    "Dyalog's got game when it comes to tail call optimisation, right? OK, let's race:"
   ]
  },
  {
   "cell_type": "code",
   "execution_count": 29,
   "metadata": {},
   "outputs": [
    {
     "data": {
      "text/html": [
       "<span style=\"white-space:pre; font-family: monospace\">  Balance d       → 4.3E¯2 |  0% ⎕⎕⎕⎕⎕⎕⎕⎕⎕⎕⎕⎕⎕⎕⎕⎕⎕⎕⎕⎕⎕⎕⎕⎕⎕⎕⎕⎕⎕⎕⎕⎕⎕⎕⎕⎕⎕⎕  \n",
       "* BalanceScalar d → 4.6E¯2 | +5% ⎕⎕⎕⎕⎕⎕⎕⎕⎕⎕⎕⎕⎕⎕⎕⎕⎕⎕⎕⎕⎕⎕⎕⎕⎕⎕⎕⎕⎕⎕⎕⎕⎕⎕⎕⎕⎕⎕⎕⎕\n",
       "</span>"
      ]
     },
     "execution_count": 29,
     "metadata": {},
     "output_type": "execute_result"
    }
   ],
   "source": [
    "'cmpx'⎕CY'dfns'\n",
    "d ← 10 81 98 27 28 5 1 46 63 99 25 39 84 87 76 85 78 64 41 93\n",
    "cmpx 'Balance d' 'BalanceScalar d'"
   ]
  },
  {
   "cell_type": "markdown",
   "metadata": {},
   "source": [
    "Vectorisation, Boolean vectors and primitive functions wins the day. We didn't go _completely_ scalar, to be fair, as we still pre-computed all the binary patterns.\n",
    "\n",
    "But back to the task at hand &ndash; let's pit ourselves against the intellectual might of Horowitz and Sahni:"
   ]
  },
  {
   "cell_type": "code",
   "execution_count": 30,
   "metadata": {},
   "outputs": [],
   "source": [
    "]dinput\n",
    "horowitzsahni←{\n",
    "    sum←1⊥⍵\n",
    "    2|sum: ⍬   ⍝ Lists with an odd sum cannot be split into equal parts.\n",
    "    halfsum←sum÷2\n",
    "    s←⍵(↑{⍺⍵}↓)⍨⌊2÷⍨≢⍵                          ⍝ Split the input.\n",
    "    a b←⊃¨(⊢,+)/¨s,¨0                           ⍝ Generate the subset sums.\n",
    "    indexes←a {(⊢,⍵⍳⍺⌷⍨(≢⍺)⌊⊢)1⍳⍨⍺∊⍵} halfsum-b ⍝ Search for solution indexes.\n",
    "    indexes[2]>≢b: ⍬\n",
    "    ⍵ {(⍺/⍨~⍵)(⍵/⍺)} ∊(2⍴¨⍨≢¨s)⊤¨indexes-1      ⍝ Get the solution from the indexes.\n",
    "}"
   ]
  },
  {
   "cell_type": "code",
   "execution_count": 31,
   "metadata": {},
   "outputs": [
    {
     "data": {
      "text/html": [
       "<span style=\"white-space:pre; font-family: monospace\">  horowitzsahni d → 3.1E¯5 |       0%                                         \n",
       "* Balance d       → 4.8E¯2 | +155000% ⎕⎕⎕⎕⎕⎕⎕⎕⎕⎕⎕⎕⎕⎕⎕⎕⎕⎕⎕⎕⎕⎕⎕⎕⎕⎕⎕⎕⎕⎕⎕⎕⎕⎕⎕⎕⎕⎕  \n",
       "  BalanceScalar d → 5.2E¯2 | +165100% ⎕⎕⎕⎕⎕⎕⎕⎕⎕⎕⎕⎕⎕⎕⎕⎕⎕⎕⎕⎕⎕⎕⎕⎕⎕⎕⎕⎕⎕⎕⎕⎕⎕⎕⎕⎕⎕⎕⎕⎕\n",
       "</span>"
      ]
     },
     "execution_count": 31,
     "metadata": {},
     "output_type": "execute_result"
    }
   ],
   "source": [
    "cmpx 'horowitzsahni d' 'Balance d' 'BalanceScalar d'"
   ]
  },
  {
   "cell_type": "markdown",
   "metadata": {},
   "source": [
    "Ouch! Well, told you my exhaustive search was naive. An impressive performance from the competitor &ndash; but also an impressive performance from Dyalog APL &ndash; even my knocked up exhaustive search runs in a pretty decent 25-30ms or so, about half the time of [my shoddy Python attempt](https://gist.github.com/xpqz/20c1248347a8014e0a4b1cdabc730ddb) (although outspeeding Python is a low bar). I'm keeping the above implementation of Horowitz/Sahni handy for next edition of [Advent of Code](https://aplwiki.com/wiki/Advent_of_Code), where this problem always seems to crop up in some shape or form."
   ]
  },
  {
   "cell_type": "markdown",
   "metadata": {},
   "source": [
    "## Problem 9 – Upwardly Mobile (1 task)\n",
    "\n",
    "_Level of Difficulty: Hard_\n",
    "\n",
    "And so for the final question. We were offered strong hints that a neat array-oriented solution might not be possible, but that the judges were prepared to be proven wrong.\n",
    "\n",
    "Here's a nicely compact, recursive solution:"
   ]
  },
  {
   "cell_type": "code",
   "execution_count": 32,
   "metadata": {},
   "outputs": [],
   "source": [
    "∇ weights ← Weights filename;diag;FindWeights;start\n",
    "    diag ← ↑(≠∘(⎕UCS 10)⊆⊢)⊃⎕NGET filename\n",
    "    FindWeights ← {\n",
    "        '┌┐│'∊⍨⊃⍵: ∇1↓⍵                    ⍝ if on any of these, go down        \n",
    "        ⎕A∊⍨⊃⍵: ⎕A=⊃⍵                      ⍝ if on a letter, give weights\n",
    "        r_disp ← '┐'⍳⍨0⌷⍵                  ⍝ otherwise, (i.e. on '┴'), find the displacement of right branch,\n",
    "        l_disp ← -1+'┌'⍳⍨⌽0⌷⍵              ⍝ ...and the left branch\n",
    "        wts ← ↑(∇r_disp⌽⍵)(∇l_disp⌽⍵)      ⍝ recurse,\n",
    "        +⌿wts×[0]⌽(+/wts)×r_disp (-l_disp) ⍝ ...and calculate new weights\n",
    "    }\n",
    "    start ← diag⌽⍨⍸'┴│'∊⍨0⌷diag            ⍝ starting position attained by ⌽'ing to '┴' or '│'\n",
    "    weights ← (~∘0÷∨/)FindWeights start    ⍝ remove 0s and get lowest weights\n",
    "∇"
   ]
  },
  {
   "cell_type": "markdown",
   "metadata": {},
   "source": [
    "Finally, someone took the suggestion that an array-based solution might not be possible as a personal challenge and produced the following:"
   ]
  },
  {
   "cell_type": "code",
   "execution_count": null,
   "metadata": {},
   "outputs": [],
   "source": [
    "Weights ← {\n",
    "    m  ← ↑(⎕UCS 10)(≠⊆⊢)⊃⎕NGET ⍵ ⍝ no empty lines midway through so this is fine\n",
    "    fm ← m='┴'               ⍝ fulcrum mask\n",
    "    ER ← {+\\1-⍵\\¯2-⌿0⍪⍸⍵}    ⍝ distance to closest 1 to the left\n",
    "      \n",
    "    wa ← +/,m∊⎕A             ⍝ weight amount\n",
    "    wi ← (⍳wa)@{⍵} m∊⎕A      ⍝ weight indexes\n",
    "    fa ← +/,fm               ⍝ fulcrum amount\n",
    "    fir← wa + ⍳fa            ⍝ fulcrum indexes (reduced)\n",
    "    fi ← fir@{⍵} fm          ⍝ fulcrum indexes\n",
    "    ai ← fi+wi               ⍝ all indexes\n",
    "    ai+← ⍉(m∊'┌┐') {⍺\\⍵/⍨⍵≠0}⍤1⍥⍉ 0@1⊢ai ⍝ extend indexes upwards to the ┌┐s that need them (exclude top ┴ as it isn't matched)\n",
    "      \n",
    "    ld ←  ER⍤1⊢ m='┌'        ⍝ distance to left\n",
    "    rd ← ⌽ER⍤1⌽ m='┐'        ⍝ distance to right\n",
    "    xp ← (⍴m)⍴⍳2⊃⍴m          ⍝ x position\n",
    "    fml← ↓fm                 ⍝ fulcrum mask & its lines\n",
    "    ail← ↓ai                 ⍝ all index lines\n",
    "    GET← {⊃,/ail⌷⍨∘⊂¨fml/¨⍵} ⍝ get an item of ai for each fulcrum at x position ⍵\n",
    "    lir← GET ↓xp-ld          ⍝ left indexes (reduced)\n",
    "    rir← GET ↓xp+rd          ⍝ right indexes (reduced)\n",
    "    ldr← fm /⍥, ld           ⍝ left distance (reduced)\n",
    "    rdr← fm /⍥, rd           ⍝ right distance (reduced)\n",
    "      \n",
    "    in ← ↑⊃{(+/⍵[⍺])@(⊃⍺)⊢ ⍵}/ (↓⍉↑fir lir rir) , ⊂↓(⍳fa+wa)∘.=⍳wa ⍝ included weights for each index\n",
    "    cf ← (ldr ×⍤¯1⊢ in[lir;]) - rdr ×⍤¯1⊢ in[rir;] ⍝ coefficients\n",
    "    ws ← (1,(≢cf)⍴0) ⌹ ((2⊃⍴cf)↑1)⍪cf              ⍝ unscaled weights\n",
    "    (⊢÷∨/) ws                                      ⍝ scale weights to integers\n",
    "}"
   ]
  },
  {
   "cell_type": "markdown",
   "metadata": {},
   "source": [
    "I take my hat off in admiration of the audacity: “An array solution might not be possible, eh? Hold my beer.”"
   ]
  },
  {
   "cell_type": "markdown",
   "metadata": {},
   "source": [
    "So there we have it, a smörgåsbord of clever solutions to serve as an inspiration for us all. The 2020 edition of the competition sported a slightly simplified format where you were expected to tackle every problem instead of teh approach in previous years where you had to make a subset selection from themed groups &ndash; this new approach remains for the current (2021) edition. \n",
    "\n",
    "You _are_ taking part, aren’t you?"
   ]
  }
 ],
 "metadata": {
  "kernelspec": {
   "display_name": "Dyalog APL",
   "language": "apl",
   "name": "dyalog-kernel"
  },
  "language_info": {
   "file_extension": ".apl",
   "mimetype": "text/apl",
   "name": "APL"
  }
 },
 "nbformat": 4,
 "nbformat_minor": 4
}
