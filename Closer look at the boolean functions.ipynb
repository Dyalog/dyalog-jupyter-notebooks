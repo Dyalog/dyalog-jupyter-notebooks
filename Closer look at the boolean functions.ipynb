{
 "cells": [
  {
   "cell_type": "markdown",
   "metadata": {},
   "source": [
    "# Boolean functions\n",
    "\n",
    "The [APL Wiki](https://aplwiki.com) [defines boolean functions](https://aplwiki.com/wiki/Boolean#Boolean_functions) as\n",
    "\n",
    " > A monadic or dyadic function (sometimes scalar function) which has a boolean result when passed boolean arguments is called a boolean function.\n",
    " \n",
    "Let us break down this sentence so we fully understand what it means:\n",
    "\n",
    " - _\"[...] is called a boolean function\"_ : a boolean function can only be called a \"boolean function\" if it fits the description that goes into the \"[...]\";\n",
    " \n",
    "It is also important to note that APL doesn't have a dedicated data type for booleans -- the \"true\" and \"false\" values of propositions. In APL we use `1` to denote \"true\" and use `0` to represent \"false\". A value of `0` or `1` can always be thought of as a boolean.\n",
    " \n",
    "\n",
    " - _\"A monadic or dyadic function\"_ : a function that can be called with one argument is a monadic function and a function that can be called with two arguments is a dyadic function. Some functions can be called with either one or two arguments (almost all functions in APL);\n",
    " \n",
    "Below you can see the function `×` being used monadically and dyadically:"
   ]
  },
  {
   "cell_type": "code",
   "execution_count": 1,
   "metadata": {},
   "outputs": [
    {
     "data": {
      "text/html": [
       "<span style=\"white-space:pre; font-family: monospace\">¯1\n",
       "</span>"
      ]
     },
     "execution_count": 1,
     "metadata": {},
     "output_type": "execute_result"
    }
   ],
   "source": [
    "× ¯5"
   ]
  },
  {
   "cell_type": "code",
   "execution_count": 2,
   "metadata": {},
   "outputs": [
    {
     "data": {
      "text/html": [
       "<span style=\"white-space:pre; font-family: monospace\">4\n",
       "</span>"
      ]
     },
     "execution_count": 2,
     "metadata": {},
     "output_type": "execute_result"
    }
   ],
   "source": [
    "1 × 4"
   ]
  },
  {
   "cell_type": "markdown",
   "metadata": {},
   "source": [
    " - _\"(sometimes scalar function)\"_ : a [scalar function](https://aplwiki.com/wiki/Scalar_function) is a function that naturally permeates through arrays into simple elements. If you are familiar with other programming languages, it may make sense to you to think of scalar functions as functions that automatically map over the arguments;\n",
    " \n",
    "Below you can see the function `×` acting as a scalar function:"
   ]
  },
  {
   "cell_type": "code",
   "execution_count": 3,
   "metadata": {},
   "outputs": [
    {
     "data": {
      "text/html": [
       "<span style=\"white-space:pre; font-family: monospace\">¯1 1 0 1\n",
       "</span>"
      ]
     },
     "execution_count": 3,
     "metadata": {},
     "output_type": "execute_result"
    }
   ],
   "source": [
    "× ¯3 5 0 7"
   ]
  },
  {
   "cell_type": "code",
   "execution_count": 4,
   "metadata": {},
   "outputs": [
    {
     "data": {
      "text/html": [
       "<span style=\"white-space:pre; font-family: monospace\">2 4 6\n",
       "</span>"
      ]
     },
     "execution_count": 4,
     "metadata": {},
     "output_type": "execute_result"
    }
   ],
   "source": [
    "2 × 1 2 3"
   ]
  },
  {
   "cell_type": "code",
   "execution_count": 5,
   "metadata": {},
   "outputs": [
    {
     "data": {
      "text/html": [
       "<span style=\"white-space:pre; font-family: monospace\">3 4 3\n",
       "</span>"
      ]
     },
     "execution_count": 5,
     "metadata": {},
     "output_type": "execute_result"
    }
   ],
   "source": [
    "3 2 1 × 1 2 3"
   ]
  },
  {
   "cell_type": "markdown",
   "metadata": {},
   "source": [
    " - _\"which has a boolean result\"_ : which returns a value that is either `0` or `1`;\n",
    " \n",
    " \n",
    " \n",
    " - _\"when passed boolean arguments\"_ : when its inputs are either `0` or `1`;"
   ]
  },
  {
   "cell_type": "markdown",
   "metadata": {},
   "source": [
    "# Primitives that are boolean functions\n",
    "\n",
    "Following the definition we just went over, which of APL's primitives are boolean functions? Here they are:\n",
    "\n",
    "## Monadic boolean functions\n",
    "\n",
    "Monadic boolean functions are functions that return `0` or `1` when they receive `0` or `1` as input, and all these primitives satisfy this restriction:\n",
    "\n",
    "```\n",
    "+×! |⌈⌊⊣⊢ ≠≡≢ ↑↓⊂⊃⊆⌷ ∊∪~ ,⍪⌽⊖⍉\n",
    "```\n",
    "\n",
    "But in all fairness, there are only _four_ unique boolean functions, corresponding to the tables below, and many of the primitives above only made it to the list because they act as the identity function when applied to `0` and to `1`.\n",
    "\n",
    "### These are the four unique boolean functions:\n",
    "\n",
    " - the identity function, like `⊢` or `⊣`:\n",
    "\n",
    "| Y | f Y |\n",
    "|---|-----|\n",
    "| 0 |   0 |\n",
    "| 1 |   1 |\n",
    "\n",
    " - the negation function, like `~`:\n",
    " \n",
    "| Y | f Y |\n",
    "|---|-----|\n",
    "| 0 |   1 |\n",
    "| 1 |   0 |\n",
    "\n",
    " - the `0` function, like `≡`, `≢` or `⊢∘0`:\n",
    " \n",
    "| Y | f Y |\n",
    "|---|-----|\n",
    "| 0 |   0 |\n",
    "| 1 |   0 |\n",
    "\n",
    " - and the `1` function, like `!` or `⊢∘1`:\n",
    " \n",
    "| Y | f Y |\n",
    "|---|-----|\n",
    "| 0 |   1 |\n",
    "| 1 |   1 |\n",
    "\n",
    "If you want to explore how a given function behaves, you can use the following utility function:"
   ]
  },
  {
   "cell_type": "code",
   "execution_count": 6,
   "metadata": {},
   "outputs": [],
   "source": [
    "_MBT ← {'Y' 'f Y'⍪(⍪0 1),⍪⍺⍺¨0 1} ⍝ call with f_MBT⍬"
   ]
  },
  {
   "cell_type": "code",
   "execution_count": 7,
   "metadata": {},
   "outputs": [
    {
     "data": {
      "text/html": [
       "<span style=\"white-space:pre; font-family: monospace\">┌─┬───┐\n",
       "│Y│f Y│\n",
       "├─┼───┤\n",
       "│0│0  │\n",
       "├─┼───┤\n",
       "│1│1  │\n",
       "└─┴───┘\n",
       "</span>"
      ]
     },
     "execution_count": 7,
     "metadata": {},
     "output_type": "execute_result"
    }
   ],
   "source": [
    "⊢_MBT⍬ ⍝ identity function"
   ]
  },
  {
   "cell_type": "code",
   "execution_count": 8,
   "metadata": {},
   "outputs": [
    {
     "data": {
      "text/html": [
       "<span style=\"white-space:pre; font-family: monospace\">┌─┬───┐\n",
       "│Y│f Y│\n",
       "├─┼───┤\n",
       "│0│1  │\n",
       "├─┼───┤\n",
       "│1│0  │\n",
       "└─┴───┘\n",
       "</span>"
      ]
     },
     "execution_count": 8,
     "metadata": {},
     "output_type": "execute_result"
    }
   ],
   "source": [
    "~_MBT⍬ ⍝ negation function"
   ]
  },
  {
   "cell_type": "code",
   "execution_count": 9,
   "metadata": {},
   "outputs": [
    {
     "data": {
      "text/html": [
       "<span style=\"white-space:pre; font-family: monospace\">┌─┬───┐\n",
       "│Y│f Y│\n",
       "├─┼───┤\n",
       "│0│0  │\n",
       "├─┼───┤\n",
       "│1│0  │\n",
       "└─┴───┘\n",
       "</span>"
      ]
     },
     "execution_count": 9,
     "metadata": {},
     "output_type": "execute_result"
    }
   ],
   "source": [
    "⊢∘0_MBT⍬ ⍝ zero function"
   ]
  },
  {
   "cell_type": "code",
   "execution_count": 10,
   "metadata": {},
   "outputs": [
    {
     "data": {
      "text/html": [
       "<span style=\"white-space:pre; font-family: monospace\">┌─┬───┐\n",
       "│Y│f Y│\n",
       "├─┼───┤\n",
       "│0│1  │\n",
       "├─┼───┤\n",
       "│1│1  │\n",
       "└─┴───┘\n",
       "</span>"
      ]
     },
     "execution_count": 10,
     "metadata": {},
     "output_type": "execute_result"
    }
   ],
   "source": [
    "⊢∘1_MBT⍬ ⍝ one function"
   ]
  },
  {
   "cell_type": "markdown",
   "metadata": {},
   "source": [
    "## Dyadic boolean functions\n",
    "\n",
    "Dyadic boolean functions, on the other hand, are functions that return either `0` or `1` when the left _and_ right arguments are `0` or `1`. These are the primitives that qualify:\n",
    "\n",
    "```\n",
    "×*! |⌈⌊⊥⊤⊣⊢ =≠≤<>≥≡≢ ∨∧⍱⍲ ↑↓ ∊⍷∩~ /\\⌿⍀ ⍴⌽⊖\n",
    "```\n",
    "\n",
    "Monadic boolean functions were only four but there are sixteen (16) unique dyadic boolean functions. Most of them have well-known meanings for us, although the names that we are most used to can vary depending on our background, be it mathematics, electronics, CS, etcetera.\n",
    "\n",
    "When dealing with logic, we usually listen people talk about terms like *conjunction*, *disjunction*, *implication*, *equivalence* and other terms like these and we will know map these terms to APL functions.\n",
    "\n",
    "For starters, another utility function:\n",
    "(and an utility operator introduced in Dyalog APL 18.0 :) )"
   ]
  },
  {
   "cell_type": "code",
   "execution_count": 11,
   "metadata": {
    "scrolled": true
   },
   "outputs": [],
   "source": [
    "Ö ← {(⍵⍵ ⍺) ⍺⍺ (⍵⍵ ⍵)}"
   ]
  },
  {
   "cell_type": "code",
   "execution_count": 12,
   "metadata": {},
   "outputs": [],
   "source": [
    "_DBT ← {aa←⍺⍺ ⋄ 'X' 'Y' ('X ',(⎕NR'aa'),' Y')⍪(∘.,⍨,Ö(↑∘,)∘.⍺⍺⍨)0 1} ⍝ call with f_DBT⍬"
   ]
  },
  {
   "cell_type": "markdown",
   "metadata": {},
   "source": [
    "## Usual dyadic boolean functions\n",
    "\n",
    "### `AND`, `conjunction`\n",
    "\n",
    "The \"and\" function always returns `0` _except_ when both arguments are `1` and its APL primitive is `∧` (much like the symbol for the corresponding logical operation in traditional mathematics).\n",
    "\n",
    "There are a couple of ways to explain, in words, the return values of the logical \"and\":\n",
    "\n",
    " - always returns `0` except when both arguments are `1`;\n",
    " - only returns `1` if both arguments are `1`;\n",
    " - returns `0` if any of the arguments is `0`.\n",
    " \n",
    "These are all equivalent and it might seem pointless to enumerate them but turns out to be helpful to be able to reason about equivalent formulations of the same function."
   ]
  },
  {
   "cell_type": "code",
   "execution_count": 13,
   "metadata": {
    "scrolled": true
   },
   "outputs": [
    {
     "data": {
      "text/html": [
       "<span style=\"white-space:pre; font-family: monospace\">┌─┬─┬─────┐\n",
       "│X│Y│X ∧ Y│\n",
       "├─┼─┼─────┤\n",
       "│0│0│0    │\n",
       "├─┼─┼─────┤\n",
       "│0│1│0    │\n",
       "├─┼─┼─────┤\n",
       "│1│0│0    │\n",
       "├─┼─┼─────┤\n",
       "│1│1│1    │\n",
       "└─┴─┴─────┘\n",
       "</span>"
      ]
     },
     "execution_count": 13,
     "metadata": {},
     "output_type": "execute_result"
    }
   ],
   "source": [
    "∧_DBT⍬"
   ]
  },
  {
   "cell_type": "markdown",
   "metadata": {},
   "source": [
    "### `OR`, `disjunction`\n",
    "\n",
    "The \"or\" function always returns `1` _except_ when both arguments are `0` and its APL primitive is `∨` (again, similar to mathematics).\n",
    "\n",
    "This is how the \"or\" function works:\n",
    "\n",
    " - always returns `1` except when both arguments are `0`;\n",
    " - only returns `0` if both arguments are `0`;\n",
    " - returns `1` if any of the arguments is `1`."
   ]
  },
  {
   "cell_type": "code",
   "execution_count": 14,
   "metadata": {},
   "outputs": [
    {
     "data": {
      "text/html": [
       "<span style=\"white-space:pre; font-family: monospace\">┌─┬─┬─────┐\n",
       "│X│Y│X ∨ Y│\n",
       "├─┼─┼─────┤\n",
       "│0│0│0    │\n",
       "├─┼─┼─────┤\n",
       "│0│1│1    │\n",
       "├─┼─┼─────┤\n",
       "│1│0│1    │\n",
       "├─┼─┼─────┤\n",
       "│1│1│1    │\n",
       "└─┴─┴─────┘\n",
       "</span>"
      ]
     },
     "execution_count": 14,
     "metadata": {},
     "output_type": "execute_result"
    }
   ],
   "source": [
    "∨_DBT⍬"
   ]
  },
  {
   "cell_type": "markdown",
   "metadata": {},
   "source": [
    "### `implication`\n",
    "\n",
    "In mathematical logic, the implication $P \\implies Q$ can be defined as $Q ∨ (\\neg P)$ where $\\neg P$ means \"not $P$\". APL doesn't have a dedicated primitive for this but we will see the `≤` comparison function can do the job.\n",
    "\n",
    "The way implication works is a bit more involved to explain in words:\n",
    "\n",
    " - always returns `1` except if the left argument is `1` and the right argument is `0`;\n",
    " - returns `1` if the second argument is `1` or if the left argument is `0`.\n",
    "\n",
    "A nice mnemonic for how implication works is as follows:\n",
    "\n",
    " > We will reason about taking a final exam depending on whether a smart person studied the subject or not; do these situations make sense or not?\n",
    " > - Not studying (`0`) and not passing (`0`) $\\implies$ this can happen (`1`);\n",
    " > - Not studying (`0`) and passing (`1`) $\\implies$ this can happen (`1`) if you are lucky or smart enough;\n",
    " > - Studying (`1`) and not passing (`0`) $\\implies$ this cannot happen (`0`);\n",
    " > - Studying (`1`) and passing (`1`) $\\implies$ this can happen (`1`)."
   ]
  },
  {
   "cell_type": "code",
   "execution_count": 15,
   "metadata": {},
   "outputs": [
    {
     "data": {
      "text/html": [
       "<span style=\"white-space:pre; font-family: monospace\">┌─┬─┬─────┐\n",
       "│X│Y│X ≤ Y│\n",
       "├─┼─┼─────┤\n",
       "│0│0│1    │\n",
       "├─┼─┼─────┤\n",
       "│0│1│1    │\n",
       "├─┼─┼─────┤\n",
       "│1│0│0    │\n",
       "├─┼─┼─────┤\n",
       "│1│1│1    │\n",
       "└─┴─┴─────┘\n",
       "</span>"
      ]
     },
     "execution_count": 15,
     "metadata": {},
     "output_type": "execute_result"
    }
   ],
   "source": [
    "≤_DBT⍬"
   ]
  },
  {
   "cell_type": "markdown",
   "metadata": {},
   "source": [
    "We can also confirm the equivalence I stated above, $P \\implies Q$ being the same as $Q ∨ \\neg P$:"
   ]
  },
  {
   "cell_type": "code",
   "execution_count": 16,
   "metadata": {},
   "outputs": [
    {
     "data": {
      "text/html": [
       "<span style=\"white-space:pre; font-family: monospace\">┌─┬─┬────────────────────┐\n",
       "│X│Y│┌─┬─┬──────────┬─┬─┐│\n",
       "│ │ ││X│ │ aa←{⍵∨~⍺}│ │Y││\n",
       "│ │ │└─┴─┴──────────┴─┴─┘│\n",
       "├─┼─┼────────────────────┤\n",
       "│0│0│1                   │\n",
       "├─┼─┼────────────────────┤\n",
       "│0│1│1                   │\n",
       "├─┼─┼────────────────────┤\n",
       "│1│0│0                   │\n",
       "├─┼─┼────────────────────┤\n",
       "│1│1│1                   │\n",
       "└─┴─┴────────────────────┘\n",
       "</span>"
      ]
     },
     "execution_count": 16,
     "metadata": {},
     "output_type": "execute_result"
    }
   ],
   "source": [
    "{⍵∨~⍺}_DBT⍬"
   ]
  },
  {
   "cell_type": "markdown",
   "metadata": {},
   "source": [
    "### `NAND`\n",
    "\n",
    "The \"nand\" function is the negation of the \"and\" function and could be written in APL as `(~∧)` were not for the builtin primitive `⍲`, which\n",
    "\n",
    " - always returns `1` except when both arguments are `1`;\n",
    " - only returns `0` if both arguments are `1`;\n",
    " - returns `1` if any of the arguments is `0`."
   ]
  },
  {
   "cell_type": "code",
   "execution_count": 17,
   "metadata": {},
   "outputs": [
    {
     "data": {
      "text/html": [
       "<span style=\"white-space:pre; font-family: monospace\">┌─┬─┬─────┐\n",
       "│X│Y│X ⍲ Y│\n",
       "├─┼─┼─────┤\n",
       "│0│0│1    │\n",
       "├─┼─┼─────┤\n",
       "│0│1│1    │\n",
       "├─┼─┼─────┤\n",
       "│1│0│1    │\n",
       "├─┼─┼─────┤\n",
       "│1│1│0    │\n",
       "└─┴─┴─────┘\n",
       "</span>"
      ]
     },
     "execution_count": 17,
     "metadata": {},
     "output_type": "execute_result"
    }
   ],
   "source": [
    "⍲_DBT⍬"
   ]
  },
  {
   "cell_type": "code",
   "execution_count": 18,
   "metadata": {},
   "outputs": [
    {
     "data": {
      "text/html": [
       "<span style=\"white-space:pre; font-family: monospace\">┌─┬─┬──────┐\n",
       "│X│Y│X ~∧ Y│\n",
       "├─┼─┼──────┤\n",
       "│0│0│1     │\n",
       "├─┼─┼──────┤\n",
       "│0│1│1     │\n",
       "├─┼─┼──────┤\n",
       "│1│0│1     │\n",
       "├─┼─┼──────┤\n",
       "│1│1│0     │\n",
       "└─┴─┴──────┘\n",
       "</span>"
      ]
     },
     "execution_count": 18,
     "metadata": {},
     "output_type": "execute_result"
    }
   ],
   "source": [
    "(~∧)_DBT⍬"
   ]
  },
  {
   "cell_type": "markdown",
   "metadata": {},
   "source": [
    "### `NOR`\n",
    "\n",
    "Similar to the \"nand\" function is the \"nor\" function, the negation of the \"or\" function, `(~∨)` or, in one glyph, `⍱`, which\n",
    "\n",
    " - always returns `0` except when both arguments are `0`;\n",
    " - only returns `1` if both arguments are `0`;\n",
    " - returns `0` if any of the arguments is `1`."
   ]
  },
  {
   "cell_type": "code",
   "execution_count": 19,
   "metadata": {},
   "outputs": [
    {
     "data": {
      "text/html": [
       "<span style=\"white-space:pre; font-family: monospace\">┌─┬─┬─────┐\n",
       "│X│Y│X ⍱ Y│\n",
       "├─┼─┼─────┤\n",
       "│0│0│1    │\n",
       "├─┼─┼─────┤\n",
       "│0│1│0    │\n",
       "├─┼─┼─────┤\n",
       "│1│0│0    │\n",
       "├─┼─┼─────┤\n",
       "│1│1│0    │\n",
       "└─┴─┴─────┘\n",
       "</span>"
      ]
     },
     "execution_count": 19,
     "metadata": {},
     "output_type": "execute_result"
    }
   ],
   "source": [
    "⍱_DBT⍬"
   ]
  },
  {
   "cell_type": "markdown",
   "metadata": {},
   "source": [
    "### `XNOR`, `equivalence`\n",
    "\n",
    "The \"xnor\" logical gate from electronic circuits has the same logical value as equivalence in the mathematical setting. In turn, these can be used as the `=` primitive in APL, given that \"xnor\"\n",
    "\n",
    " - returns `1` if both arguments are the same;\n",
    " - returns `0` if both arguments are different."
   ]
  },
  {
   "cell_type": "code",
   "execution_count": 20,
   "metadata": {},
   "outputs": [
    {
     "data": {
      "text/html": [
       "<span style=\"white-space:pre; font-family: monospace\">┌─┬─┬─────┐\n",
       "│X│Y│X = Y│\n",
       "├─┼─┼─────┤\n",
       "│0│0│1    │\n",
       "├─┼─┼─────┤\n",
       "│0│1│0    │\n",
       "├─┼─┼─────┤\n",
       "│1│0│0    │\n",
       "├─┼─┼─────┤\n",
       "│1│1│1    │\n",
       "└─┴─┴─────┘\n",
       "</span>"
      ]
     },
     "execution_count": 20,
     "metadata": {},
     "output_type": "execute_result"
    }
   ],
   "source": [
    "=_DBT⍬"
   ]
  },
  {
   "cell_type": "markdown",
   "metadata": {},
   "source": [
    "### `XOR`, `exclusive disjunction`\n",
    "\n",
    "The \"xor\" function, sometimes referred to as \"exclusive or\",\n",
    "\n",
    " - returns `1` if there is exactly one `1` among the arguments;\n",
    " - returns `1` if the two arguments are different;\n",
    " - returns `0` if the two arguments are the same.\n",
    " \n",
    "APL doesn't have a primitive specifically for the \"xor\" function but from the explanations above we see we can just go with `≠`:"
   ]
  },
  {
   "cell_type": "code",
   "execution_count": 21,
   "metadata": {},
   "outputs": [
    {
     "data": {
      "text/html": [
       "<span style=\"white-space:pre; font-family: monospace\">┌─┬─┬─────┐\n",
       "│X│Y│X ≠ Y│\n",
       "├─┼─┼─────┤\n",
       "│0│0│0    │\n",
       "├─┼─┼─────┤\n",
       "│0│1│1    │\n",
       "├─┼─┼─────┤\n",
       "│1│0│1    │\n",
       "├─┼─┼─────┤\n",
       "│1│1│0    │\n",
       "└─┴─┴─────┘\n",
       "</span>"
      ]
     },
     "execution_count": 21,
     "metadata": {},
     "output_type": "execute_result"
    }
   ],
   "source": [
    "≠_DBT⍬"
   ]
  }
 ],
 "metadata": {
  "kernelspec": {
   "display_name": "Dyalog APL",
   "language": "apl",
   "name": "dyalog-kernel"
  },
  "language_info": {
   "file_extension": ".apl",
   "mimetype": "text/apl",
   "name": "APL"
  }
 },
 "nbformat": 4,
 "nbformat_minor": 4
}
